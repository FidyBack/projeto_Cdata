{
 "cells": [
  {
   "cell_type": "markdown",
   "metadata": {},
   "source": [
    "# Ciência dos Dados - PROJETO 1"
   ]
  },
  {
   "cell_type": "markdown",
   "metadata": {},
   "source": [
    "## Abel Cavalcante e Theo Barbara"
   ]
  },
  {
   "cell_type": "markdown",
   "metadata": {},
   "source": [
    "## Projeto de Análise e Filtragem de Dados"
   ]
  },
  {
   "cell_type": "markdown",
   "metadata": {},
   "source": [
    "## Introdução\n",
    "\n",
    "Esse projeto tem como objetivo principal analisar o perfil geral da População Economicamete Ativa, com foco principal no perfil educacional dessas pessoas."
   ]
  },
  {
   "cell_type": "markdown",
   "metadata": {},
   "source": [
    "## Filtros da base de dados"
   ]
  },
  {
   "cell_type": "code",
   "execution_count": 2,
   "metadata": {},
   "outputs": [],
   "source": [
    "%matplotlib inline\n",
    "import pandas as pd\n",
    "import matplotlib.pyplot as plt\n",
    "import numpy as np"
   ]
  },
  {
   "cell_type": "code",
   "execution_count": 3,
   "metadata": {},
   "outputs": [
    {
     "data": {
      "text/html": [
       "<div>\n",
       "<style scoped>\n",
       "    .dataframe tbody tr th:only-of-type {\n",
       "        vertical-align: middle;\n",
       "    }\n",
       "\n",
       "    .dataframe tbody tr th {\n",
       "        vertical-align: top;\n",
       "    }\n",
       "\n",
       "    .dataframe thead th {\n",
       "        text-align: right;\n",
       "    }\n",
       "</style>\n",
       "<table border=\"1\" class=\"dataframe\">\n",
       "  <thead>\n",
       "    <tr style=\"text-align: right;\">\n",
       "      <th></th>\n",
       "      <th>Unnamed: 0</th>\n",
       "      <th>V0101</th>\n",
       "      <th>UF</th>\n",
       "      <th>V0102</th>\n",
       "      <th>V0103</th>\n",
       "      <th>V0301</th>\n",
       "      <th>V0302</th>\n",
       "      <th>V3031</th>\n",
       "      <th>V3032</th>\n",
       "      <th>V3033</th>\n",
       "      <th>...</th>\n",
       "      <th>V4741</th>\n",
       "      <th>V4742</th>\n",
       "      <th>V4743</th>\n",
       "      <th>V4745</th>\n",
       "      <th>V4746</th>\n",
       "      <th>V4747</th>\n",
       "      <th>V4748</th>\n",
       "      <th>V4749</th>\n",
       "      <th>V4750</th>\n",
       "      <th>V9993</th>\n",
       "    </tr>\n",
       "  </thead>\n",
       "  <tbody>\n",
       "    <tr>\n",
       "      <th>0</th>\n",
       "      <td>0</td>\n",
       "      <td>2015</td>\n",
       "      <td>11</td>\n",
       "      <td>15</td>\n",
       "      <td>1</td>\n",
       "      <td>1</td>\n",
       "      <td>2</td>\n",
       "      <td>27</td>\n",
       "      <td>2</td>\n",
       "      <td>1992</td>\n",
       "      <td>...</td>\n",
       "      <td>1.0</td>\n",
       "      <td>800.0</td>\n",
       "      <td>4.0</td>\n",
       "      <td>5</td>\n",
       "      <td>1.0</td>\n",
       "      <td>2.0</td>\n",
       "      <td>2.0</td>\n",
       "      <td>1.0</td>\n",
       "      <td>800.0</td>\n",
       "      <td>20161117</td>\n",
       "    </tr>\n",
       "    <tr>\n",
       "      <th>1</th>\n",
       "      <td>1</td>\n",
       "      <td>2015</td>\n",
       "      <td>11</td>\n",
       "      <td>15</td>\n",
       "      <td>3</td>\n",
       "      <td>1</td>\n",
       "      <td>4</td>\n",
       "      <td>4</td>\n",
       "      <td>5</td>\n",
       "      <td>1992</td>\n",
       "      <td>...</td>\n",
       "      <td>1.0</td>\n",
       "      <td>1150.0</td>\n",
       "      <td>4.0</td>\n",
       "      <td>5</td>\n",
       "      <td>1.0</td>\n",
       "      <td>2.0</td>\n",
       "      <td>2.0</td>\n",
       "      <td>1.0</td>\n",
       "      <td>1150.0</td>\n",
       "      <td>20161117</td>\n",
       "    </tr>\n",
       "    <tr>\n",
       "      <th>2</th>\n",
       "      <td>2</td>\n",
       "      <td>2015</td>\n",
       "      <td>11</td>\n",
       "      <td>15</td>\n",
       "      <td>4</td>\n",
       "      <td>1</td>\n",
       "      <td>4</td>\n",
       "      <td>4</td>\n",
       "      <td>1</td>\n",
       "      <td>1980</td>\n",
       "      <td>...</td>\n",
       "      <td>6.0</td>\n",
       "      <td>793.0</td>\n",
       "      <td>4.0</td>\n",
       "      <td>6</td>\n",
       "      <td>1.0</td>\n",
       "      <td>2.0</td>\n",
       "      <td>2.0</td>\n",
       "      <td>1.0</td>\n",
       "      <td>793.0</td>\n",
       "      <td>20161117</td>\n",
       "    </tr>\n",
       "    <tr>\n",
       "      <th>3</th>\n",
       "      <td>3</td>\n",
       "      <td>2015</td>\n",
       "      <td>11</td>\n",
       "      <td>15</td>\n",
       "      <td>4</td>\n",
       "      <td>2</td>\n",
       "      <td>2</td>\n",
       "      <td>5</td>\n",
       "      <td>6</td>\n",
       "      <td>1981</td>\n",
       "      <td>...</td>\n",
       "      <td>6.0</td>\n",
       "      <td>793.0</td>\n",
       "      <td>4.0</td>\n",
       "      <td>7</td>\n",
       "      <td>1.0</td>\n",
       "      <td>2.0</td>\n",
       "      <td>2.0</td>\n",
       "      <td>1.0</td>\n",
       "      <td>793.0</td>\n",
       "      <td>20161117</td>\n",
       "    </tr>\n",
       "    <tr>\n",
       "      <th>4</th>\n",
       "      <td>4</td>\n",
       "      <td>2015</td>\n",
       "      <td>11</td>\n",
       "      <td>15</td>\n",
       "      <td>4</td>\n",
       "      <td>3</td>\n",
       "      <td>4</td>\n",
       "      <td>8</td>\n",
       "      <td>4</td>\n",
       "      <td>2004</td>\n",
       "      <td>...</td>\n",
       "      <td>6.0</td>\n",
       "      <td>793.0</td>\n",
       "      <td>4.0</td>\n",
       "      <td>2</td>\n",
       "      <td>2.0</td>\n",
       "      <td>NaN</td>\n",
       "      <td>NaN</td>\n",
       "      <td>2.0</td>\n",
       "      <td>793.0</td>\n",
       "      <td>20161117</td>\n",
       "    </tr>\n",
       "  </tbody>\n",
       "</table>\n",
       "<p>5 rows × 329 columns</p>\n",
       "</div>"
      ],
      "text/plain": [
       "   Unnamed: 0  V0101  UF  V0102  V0103  V0301  V0302  V3031  V3032  V3033  \\\n",
       "0           0   2015  11     15      1      1      2     27      2   1992   \n",
       "1           1   2015  11     15      3      1      4      4      5   1992   \n",
       "2           2   2015  11     15      4      1      4      4      1   1980   \n",
       "3           3   2015  11     15      4      2      2      5      6   1981   \n",
       "4           4   2015  11     15      4      3      4      8      4   2004   \n",
       "\n",
       "     ...     V4741   V4742  V4743  V4745  V4746  V4747  V4748  V4749   V4750  \\\n",
       "0    ...       1.0   800.0    4.0      5    1.0    2.0    2.0    1.0   800.0   \n",
       "1    ...       1.0  1150.0    4.0      5    1.0    2.0    2.0    1.0  1150.0   \n",
       "2    ...       6.0   793.0    4.0      6    1.0    2.0    2.0    1.0   793.0   \n",
       "3    ...       6.0   793.0    4.0      7    1.0    2.0    2.0    1.0   793.0   \n",
       "4    ...       6.0   793.0    4.0      2    2.0    NaN    NaN    2.0   793.0   \n",
       "\n",
       "      V9993  \n",
       "0  20161117  \n",
       "1  20161117  \n",
       "2  20161117  \n",
       "3  20161117  \n",
       "4  20161117  \n",
       "\n",
       "[5 rows x 329 columns]"
      ]
     },
     "execution_count": 3,
     "metadata": {},
     "output_type": "execute_result"
    }
   ],
   "source": [
    "data = pd.read_csv('PES2015.csv')\n",
    "data.head()"
   ]
  },
  {
   "cell_type": "markdown",
   "metadata": {},
   "source": [
    "As variáveis utilizadas para o cumprimento do nosso objetivo serão:\n",
    "\n",
    "- UF (Unidade Federativa);\n",
    "- V8005 (Idade do morador);\n",
    "- V0601 (Saber ler e escrever);\n",
    "- V6002 (Rede de ensino);\n",
    "- V4803 (Anos de estudo);\n",
    "- V4713 (Condição de atividade no trabalho principal do período de referência de 365 dias para pessoas de 10 anos ou mais de idade)."
   ]
  },
  {
   "cell_type": "code",
   "execution_count": 4,
   "metadata": {
    "scrolled": true
   },
   "outputs": [
    {
     "name": "stderr",
     "output_type": "stream",
     "text": [
      "C:\\Users\\Theo B.R.Theo_Barbara\\Anaconda3\\lib\\site-packages\\ipykernel_launcher.py:1: UserWarning: Boolean Series key will be reindexed to match DataFrame index.\n",
      "  \"\"\"Entry point for launching an IPython kernel.\n"
     ]
    },
    {
     "data": {
      "text/html": [
       "<div>\n",
       "<style scoped>\n",
       "    .dataframe tbody tr th:only-of-type {\n",
       "        vertical-align: middle;\n",
       "    }\n",
       "\n",
       "    .dataframe tbody tr th {\n",
       "        vertical-align: top;\n",
       "    }\n",
       "\n",
       "    .dataframe thead th {\n",
       "        text-align: right;\n",
       "    }\n",
       "</style>\n",
       "<table border=\"1\" class=\"dataframe\">\n",
       "  <thead>\n",
       "    <tr style=\"text-align: right;\">\n",
       "      <th></th>\n",
       "      <th>UF</th>\n",
       "      <th>V8005</th>\n",
       "      <th>V0601</th>\n",
       "      <th>V6002</th>\n",
       "      <th>V4803</th>\n",
       "      <th>V4713</th>\n",
       "    </tr>\n",
       "  </thead>\n",
       "  <tbody>\n",
       "    <tr>\n",
       "      <th>0</th>\n",
       "      <td>11</td>\n",
       "      <td>23</td>\n",
       "      <td>1</td>\n",
       "      <td>NaN</td>\n",
       "      <td>12</td>\n",
       "      <td>1.0</td>\n",
       "    </tr>\n",
       "    <tr>\n",
       "      <th>1</th>\n",
       "      <td>11</td>\n",
       "      <td>23</td>\n",
       "      <td>1</td>\n",
       "      <td>NaN</td>\n",
       "      <td>12</td>\n",
       "      <td>1.0</td>\n",
       "    </tr>\n",
       "    <tr>\n",
       "      <th>2</th>\n",
       "      <td>11</td>\n",
       "      <td>35</td>\n",
       "      <td>1</td>\n",
       "      <td>4.0</td>\n",
       "      <td>15</td>\n",
       "      <td>1.0</td>\n",
       "    </tr>\n",
       "    <tr>\n",
       "      <th>3</th>\n",
       "      <td>11</td>\n",
       "      <td>34</td>\n",
       "      <td>1</td>\n",
       "      <td>NaN</td>\n",
       "      <td>15</td>\n",
       "      <td>1.0</td>\n",
       "    </tr>\n",
       "    <tr>\n",
       "      <th>4</th>\n",
       "      <td>11</td>\n",
       "      <td>11</td>\n",
       "      <td>1</td>\n",
       "      <td>4.0</td>\n",
       "      <td>4</td>\n",
       "      <td>2.0</td>\n",
       "    </tr>\n",
       "  </tbody>\n",
       "</table>\n",
       "</div>"
      ],
      "text/plain": [
       "   UF  V8005  V0601  V6002  V4803  V4713\n",
       "0  11     23      1    NaN     12    1.0\n",
       "1  11     23      1    NaN     12    1.0\n",
       "2  11     35      1    4.0     15    1.0\n",
       "3  11     34      1    NaN     15    1.0\n",
       "4  11     11      1    4.0      4    2.0"
      ]
     },
     "execution_count": 4,
     "metadata": {},
     "output_type": "execute_result"
    }
   ],
   "source": [
    "data_filtro = data[['UF', \"V8005\", \"V0601\", \"V6002\", \"V4803\", \"V4713\"]][data[\"V8005\"] > 10][data[\"V8005\"] < 65]\n",
    "data_filtro.head()"
   ]
  },
  {
   "cell_type": "markdown",
   "metadata": {},
   "source": [
    "Antes de começarmos a programar, vamos redefinir o nome de algumas variáveis:"
   ]
  },
  {
   "cell_type": "code",
   "execution_count": 5,
   "metadata": {},
   "outputs": [
    {
     "data": {
      "text/html": [
       "<div>\n",
       "<style scoped>\n",
       "    .dataframe tbody tr th:only-of-type {\n",
       "        vertical-align: middle;\n",
       "    }\n",
       "\n",
       "    .dataframe tbody tr th {\n",
       "        vertical-align: top;\n",
       "    }\n",
       "\n",
       "    .dataframe thead th {\n",
       "        text-align: right;\n",
       "    }\n",
       "</style>\n",
       "<table border=\"1\" class=\"dataframe\">\n",
       "  <thead>\n",
       "    <tr style=\"text-align: right;\">\n",
       "      <th></th>\n",
       "      <th>UF</th>\n",
       "      <th>MORADOR_IDADE</th>\n",
       "      <th>SABER_LER</th>\n",
       "      <th>REDE_ENSINO</th>\n",
       "      <th>ANOS_ESTUDO</th>\n",
       "      <th>PEA</th>\n",
       "    </tr>\n",
       "  </thead>\n",
       "  <tbody>\n",
       "    <tr>\n",
       "      <th>0</th>\n",
       "      <td>11</td>\n",
       "      <td>23</td>\n",
       "      <td>1</td>\n",
       "      <td>NaN</td>\n",
       "      <td>12</td>\n",
       "      <td>1.0</td>\n",
       "    </tr>\n",
       "    <tr>\n",
       "      <th>1</th>\n",
       "      <td>11</td>\n",
       "      <td>23</td>\n",
       "      <td>1</td>\n",
       "      <td>NaN</td>\n",
       "      <td>12</td>\n",
       "      <td>1.0</td>\n",
       "    </tr>\n",
       "    <tr>\n",
       "      <th>2</th>\n",
       "      <td>11</td>\n",
       "      <td>35</td>\n",
       "      <td>1</td>\n",
       "      <td>4.0</td>\n",
       "      <td>15</td>\n",
       "      <td>1.0</td>\n",
       "    </tr>\n",
       "    <tr>\n",
       "      <th>3</th>\n",
       "      <td>11</td>\n",
       "      <td>34</td>\n",
       "      <td>1</td>\n",
       "      <td>NaN</td>\n",
       "      <td>15</td>\n",
       "      <td>1.0</td>\n",
       "    </tr>\n",
       "    <tr>\n",
       "      <th>4</th>\n",
       "      <td>11</td>\n",
       "      <td>11</td>\n",
       "      <td>1</td>\n",
       "      <td>4.0</td>\n",
       "      <td>4</td>\n",
       "      <td>2.0</td>\n",
       "    </tr>\n",
       "  </tbody>\n",
       "</table>\n",
       "</div>"
      ],
      "text/plain": [
       "   UF  MORADOR_IDADE  SABER_LER  REDE_ENSINO  ANOS_ESTUDO  PEA\n",
       "0  11             23          1          NaN           12  1.0\n",
       "1  11             23          1          NaN           12  1.0\n",
       "2  11             35          1          4.0           15  1.0\n",
       "3  11             34          1          NaN           15  1.0\n",
       "4  11             11          1          4.0            4  2.0"
      ]
     },
     "execution_count": 5,
     "metadata": {},
     "output_type": "execute_result"
    }
   ],
   "source": [
    "data_filtro.columns = ['UF', 'MORADOR_IDADE', 'SABER_LER', 'REDE_ENSINO', 'ANOS_ESTUDO', 'PEA']\n",
    "data_filtro.head()"
   ]
  },
  {
   "cell_type": "markdown",
   "metadata": {},
   "source": [
    "## Análises Iniciais"
   ]
  },
  {
   "cell_type": "markdown",
   "metadata": {},
   "source": [
    "Temos, assim, que a variável \"População Economicamente Ativa\" pode ser definida como sendo a variável \"V4713\". Assim,  pretendemos usar essa variável como base de estudo."
   ]
  },
  {
   "cell_type": "code",
   "execution_count": 6,
   "metadata": {},
   "outputs": [
    {
     "data": {
      "text/html": [
       "<div>\n",
       "<style scoped>\n",
       "    .dataframe tbody tr th:only-of-type {\n",
       "        vertical-align: middle;\n",
       "    }\n",
       "\n",
       "    .dataframe tbody tr th {\n",
       "        vertical-align: top;\n",
       "    }\n",
       "\n",
       "    .dataframe thead th {\n",
       "        text-align: right;\n",
       "    }\n",
       "</style>\n",
       "<table border=\"1\" class=\"dataframe\">\n",
       "  <thead>\n",
       "    <tr style=\"text-align: right;\">\n",
       "      <th></th>\n",
       "      <th>PEA</th>\n",
       "    </tr>\n",
       "  </thead>\n",
       "  <tbody>\n",
       "    <tr>\n",
       "      <th>0</th>\n",
       "      <td>1.0</td>\n",
       "    </tr>\n",
       "    <tr>\n",
       "      <th>1</th>\n",
       "      <td>1.0</td>\n",
       "    </tr>\n",
       "    <tr>\n",
       "      <th>2</th>\n",
       "      <td>1.0</td>\n",
       "    </tr>\n",
       "    <tr>\n",
       "      <th>3</th>\n",
       "      <td>1.0</td>\n",
       "    </tr>\n",
       "    <tr>\n",
       "      <th>4</th>\n",
       "      <td>2.0</td>\n",
       "    </tr>\n",
       "  </tbody>\n",
       "</table>\n",
       "</div>"
      ],
      "text/plain": [
       "   PEA\n",
       "0  1.0\n",
       "1  1.0\n",
       "2  1.0\n",
       "3  1.0\n",
       "4  2.0"
      ]
     },
     "execution_count": 6,
     "metadata": {},
     "output_type": "execute_result"
    }
   ],
   "source": [
    "data_filtro[['PEA']].head()"
   ]
  },
  {
   "cell_type": "markdown",
   "metadata": {},
   "source": [
    "Podemos também ver que essa variável possui duas opções: \"1.0\", que significa que a pessoa é Economicamente ativa e \"2.0\", que significa que a pessoa é Economicamente inativa."
   ]
  },
  {
   "cell_type": "code",
   "execution_count": 7,
   "metadata": {},
   "outputs": [
    {
     "data": {
      "text/plain": [
       "1.0    186168\n",
       "2.0     83402\n",
       "Name: PEA, dtype: int64"
      ]
     },
     "execution_count": 7,
     "metadata": {},
     "output_type": "execute_result"
    }
   ],
   "source": [
    "data_filtro.PEA.value_counts()"
   ]
  },
  {
   "cell_type": "markdown",
   "metadata": {},
   "source": [
    "Como queremos medir o perfil das pessoas economicamente ativas, ignoraremos a parcela que se encontra em \"2.0\""
   ]
  },
  {
   "cell_type": "code",
   "execution_count": 8,
   "metadata": {},
   "outputs": [
    {
     "data": {
      "text/plain": [
       "(186168, 6)"
      ]
     },
     "execution_count": 8,
     "metadata": {},
     "output_type": "execute_result"
    }
   ],
   "source": [
    "ativos = data_filtro[data_filtro.PEA == 1]\n",
    "ativos.shape"
   ]
  },
  {
   "cell_type": "markdown",
   "metadata": {},
   "source": [
    "Assim, temos que o dataframe 'ativos' contém apenas as pessoas economicamente ativas. Com isso, podemos trabalhar com as variáveis:"
   ]
  },
  {
   "cell_type": "markdown",
   "metadata": {},
   "source": [
    "#### Unidade Federativa"
   ]
  },
  {
   "cell_type": "markdown",
   "metadata": {},
   "source": [
    "Vamos explorar o perfil das pessoas Economicamente Ativas por região:"
   ]
  },
  {
   "cell_type": "code",
   "execution_count": 9,
   "metadata": {},
   "outputs": [
    {
     "data": {
      "image/png": "[encoded data removed]",
      "text/plain": [
       "<matplotlib.figure.Figure at 0x26ee455ec88>"
      ]
     },
     "metadata": {},
     "output_type": "display_data"
    }
   ],
   "source": [
    "# Comparação estados Vs População Economicamente Ativa\n",
    "pea_uf = pd.crosstab(ativos.UF, ativos.PEA, normalize = True) * 100\n",
    "pea_uf.plot(kind='bar', figsize=(8, 6))\n",
    "plt.ylabel(\"População (%)\")\n",
    "plt.xlabel('Estados')\n",
    "plt.legend([\"PEA\"]);"
   ]
  },
  {
   "cell_type": "markdown",
   "metadata": {},
   "source": [
    "Como o dataframe ficou excessivamente cheio, vamos separar os estados por região e compará-las:"
   ]
  },
  {
   "cell_type": "code",
   "execution_count": 10,
   "metadata": {
    "scrolled": false
   },
   "outputs": [
    {
     "name": "stderr",
     "output_type": "stream",
     "text": [
      "C:\\Users\\Theo B.R.Theo_Barbara\\Anaconda3\\lib\\site-packages\\pandas\\core\\indexing.py:357: SettingWithCopyWarning: \n",
      "A value is trying to be set on a copy of a slice from a DataFrame.\n",
      "Try using .loc[row_indexer,col_indexer] = value instead\n",
      "\n",
      "See the caveats in the documentation: http://pandas.pydata.org/pandas-docs/stable/indexing.html#indexing-view-versus-copy\n",
      "  self.obj[key] = _infer_fill_value(value)\n",
      "C:\\Users\\Theo B.R.Theo_Barbara\\Anaconda3\\lib\\site-packages\\pandas\\core\\indexing.py:537: SettingWithCopyWarning: \n",
      "A value is trying to be set on a copy of a slice from a DataFrame.\n",
      "Try using .loc[row_indexer,col_indexer] = value instead\n",
      "\n",
      "See the caveats in the documentation: http://pandas.pydata.org/pandas-docs/stable/indexing.html#indexing-view-versus-copy\n",
      "  self.obj[item] = s\n"
     ]
    },
    {
     "data": {
      "text/html": [
       "<div>\n",
       "<style scoped>\n",
       "    .dataframe tbody tr th:only-of-type {\n",
       "        vertical-align: middle;\n",
       "    }\n",
       "\n",
       "    .dataframe tbody tr th {\n",
       "        vertical-align: top;\n",
       "    }\n",
       "\n",
       "    .dataframe thead th {\n",
       "        text-align: right;\n",
       "    }\n",
       "</style>\n",
       "<table border=\"1\" class=\"dataframe\">\n",
       "  <thead>\n",
       "    <tr style=\"text-align: right;\">\n",
       "      <th></th>\n",
       "      <th>UF</th>\n",
       "      <th>MORADOR_IDADE</th>\n",
       "      <th>SABER_LER</th>\n",
       "      <th>REDE_ENSINO</th>\n",
       "      <th>ANOS_ESTUDO</th>\n",
       "      <th>PEA</th>\n",
       "      <th>REGIAO</th>\n",
       "    </tr>\n",
       "  </thead>\n",
       "  <tbody>\n",
       "    <tr>\n",
       "      <th>0</th>\n",
       "      <td>11</td>\n",
       "      <td>23</td>\n",
       "      <td>1</td>\n",
       "      <td>NaN</td>\n",
       "      <td>12</td>\n",
       "      <td>1.0</td>\n",
       "      <td>Norte</td>\n",
       "    </tr>\n",
       "    <tr>\n",
       "      <th>1</th>\n",
       "      <td>11</td>\n",
       "      <td>23</td>\n",
       "      <td>1</td>\n",
       "      <td>NaN</td>\n",
       "      <td>12</td>\n",
       "      <td>1.0</td>\n",
       "      <td>Norte</td>\n",
       "    </tr>\n",
       "    <tr>\n",
       "      <th>2</th>\n",
       "      <td>11</td>\n",
       "      <td>35</td>\n",
       "      <td>1</td>\n",
       "      <td>4.0</td>\n",
       "      <td>15</td>\n",
       "      <td>1.0</td>\n",
       "      <td>Norte</td>\n",
       "    </tr>\n",
       "    <tr>\n",
       "      <th>3</th>\n",
       "      <td>11</td>\n",
       "      <td>34</td>\n",
       "      <td>1</td>\n",
       "      <td>NaN</td>\n",
       "      <td>15</td>\n",
       "      <td>1.0</td>\n",
       "      <td>Norte</td>\n",
       "    </tr>\n",
       "    <tr>\n",
       "      <th>7</th>\n",
       "      <td>11</td>\n",
       "      <td>18</td>\n",
       "      <td>1</td>\n",
       "      <td>NaN</td>\n",
       "      <td>12</td>\n",
       "      <td>1.0</td>\n",
       "      <td>Norte</td>\n",
       "    </tr>\n",
       "  </tbody>\n",
       "</table>\n",
       "</div>"
      ],
      "text/plain": [
       "   UF  MORADOR_IDADE  SABER_LER  REDE_ENSINO  ANOS_ESTUDO  PEA REGIAO\n",
       "0  11             23          1          NaN           12  1.0  Norte\n",
       "1  11             23          1          NaN           12  1.0  Norte\n",
       "2  11             35          1          4.0           15  1.0  Norte\n",
       "3  11             34          1          NaN           15  1.0  Norte\n",
       "7  11             18          1          NaN           12  1.0  Norte"
      ]
     },
     "execution_count": 10,
     "metadata": {},
     "output_type": "execute_result"
    }
   ],
   "source": [
    "# Vamos separar a variável \"UF\" em regiões, para melhor visualização:\n",
    "if 'REGIAO' not in ativos:\n",
    "    ativos.loc[(ativos.UF>10)&(ativos.UF<20), \"REGIAO\"] = \"Norte\"\n",
    "    ativos.loc[(ativos.UF>20)&(ativos.UF<30), \"REGIAO\"] = \"Nordeste\"\n",
    "    ativos.loc[(ativos.UF>30)&(ativos.UF<37), \"REGIAO\"] = \"Sudeste\"\n",
    "    ativos.loc[(ativos.UF>40)&(ativos.UF<48), \"REGIAO\"] = \"Sul\"\n",
    "    ativos.loc[(ativos.UF>49)&(ativos.UF<56), \"REGIAO\"] = \"Centro-Oeste\"\n",
    "else:\n",
    "    pass\n",
    "    \n",
    "ativos.head()"
   ]
  },
  {
   "cell_type": "code",
   "execution_count": 11,
   "metadata": {},
   "outputs": [
    {
     "name": "stderr",
     "output_type": "stream",
     "text": [
      "C:\\Users\\Theo B.R.Theo_Barbara\\Anaconda3\\lib\\site-packages\\pandas\\core\\generic.py:3643: SettingWithCopyWarning: \n",
      "A value is trying to be set on a copy of a slice from a DataFrame.\n",
      "Try using .loc[row_indexer,col_indexer] = value instead\n",
      "\n",
      "See the caveats in the documentation: http://pandas.pydata.org/pandas-docs/stable/indexing.html#indexing-view-versus-copy\n",
      "  self[name] = value\n"
     ]
    },
    {
     "data": {
      "text/html": [
       "<div>\n",
       "<style scoped>\n",
       "    .dataframe tbody tr th:only-of-type {\n",
       "        vertical-align: middle;\n",
       "    }\n",
       "\n",
       "    .dataframe tbody tr th {\n",
       "        vertical-align: top;\n",
       "    }\n",
       "\n",
       "    .dataframe thead th {\n",
       "        text-align: right;\n",
       "    }\n",
       "</style>\n",
       "<table border=\"1\" class=\"dataframe\">\n",
       "  <thead>\n",
       "    <tr style=\"text-align: right;\">\n",
       "      <th></th>\n",
       "      <th>UF</th>\n",
       "      <th>MORADOR_IDADE</th>\n",
       "      <th>SABER_LER</th>\n",
       "      <th>REDE_ENSINO</th>\n",
       "      <th>ANOS_ESTUDO</th>\n",
       "      <th>PEA</th>\n",
       "      <th>REGIAO</th>\n",
       "    </tr>\n",
       "  </thead>\n",
       "  <tbody>\n",
       "    <tr>\n",
       "      <th>0</th>\n",
       "      <td>Rondônia</td>\n",
       "      <td>23</td>\n",
       "      <td>Sim</td>\n",
       "      <td>NaN</td>\n",
       "      <td>12</td>\n",
       "      <td>1.0</td>\n",
       "      <td>Norte</td>\n",
       "    </tr>\n",
       "    <tr>\n",
       "      <th>1</th>\n",
       "      <td>Rondônia</td>\n",
       "      <td>23</td>\n",
       "      <td>Sim</td>\n",
       "      <td>NaN</td>\n",
       "      <td>12</td>\n",
       "      <td>1.0</td>\n",
       "      <td>Norte</td>\n",
       "    </tr>\n",
       "    <tr>\n",
       "      <th>2</th>\n",
       "      <td>Rondônia</td>\n",
       "      <td>35</td>\n",
       "      <td>Sim</td>\n",
       "      <td>Privada</td>\n",
       "      <td>15</td>\n",
       "      <td>1.0</td>\n",
       "      <td>Norte</td>\n",
       "    </tr>\n",
       "    <tr>\n",
       "      <th>3</th>\n",
       "      <td>Rondônia</td>\n",
       "      <td>34</td>\n",
       "      <td>Sim</td>\n",
       "      <td>NaN</td>\n",
       "      <td>15</td>\n",
       "      <td>1.0</td>\n",
       "      <td>Norte</td>\n",
       "    </tr>\n",
       "    <tr>\n",
       "      <th>7</th>\n",
       "      <td>Rondônia</td>\n",
       "      <td>18</td>\n",
       "      <td>Sim</td>\n",
       "      <td>NaN</td>\n",
       "      <td>12</td>\n",
       "      <td>1.0</td>\n",
       "      <td>Norte</td>\n",
       "    </tr>\n",
       "  </tbody>\n",
       "</table>\n",
       "</div>"
      ],
      "text/plain": [
       "         UF  MORADOR_IDADE SABER_LER REDE_ENSINO  ANOS_ESTUDO  PEA REGIAO\n",
       "0  Rondônia             23       Sim         NaN           12  1.0  Norte\n",
       "1  Rondônia             23       Sim         NaN           12  1.0  Norte\n",
       "2  Rondônia             35       Sim     Privada           15  1.0  Norte\n",
       "3  Rondônia             34       Sim         NaN           15  1.0  Norte\n",
       "7  Rondônia             18       Sim         NaN           12  1.0  Norte"
      ]
     },
     "execution_count": 11,
     "metadata": {},
     "output_type": "execute_result"
    }
   ],
   "source": [
    "# Definiremos quais variáveis são qualitativas:\n",
    "ativos.UF = ativos.UF.astype('category')\n",
    "ativos.SABER_LER = ativos.SABER_LER.astype('category')\n",
    "ativos.REDE_ENSINO = ativos.REDE_ENSINO.astype('category')\n",
    "\n",
    "ativos.UF.cat.categories = (\"Rondônia\", \"Acre\", \"Amazonas\", \"Roraima\", \"Pará\", \"Amapá\", \"Tocantins\", \"Maranhão\", \"Piauí\", \"Ceará\", \"Rio Grande do Norte\", \"Paraíba\", \"Pernambuco\", \"Alagoas\", \"Sergipe\", \"Bahia\", \"Minas Gerais\", \"Espírito Santo\", \"Rio de Janeiro\", \"São Paulo\", \"Paraná\", \"Santa Catarina\", \"Rio Grande do Sul\", \"Mato Grosso do Sul\", \"Mato Grosso\", \"Goiás\", \"Distrito Federal\")\n",
    "ativos.SABER_LER.cat.categories = (\"Sim\", \"Não\")\n",
    "ativos.REDE_ENSINO.cat.categories = (\"Pública\", \"Privada\")\n",
    "ativos.head()"
   ]
  },
  {
   "cell_type": "code",
   "execution_count": 12,
   "metadata": {},
   "outputs": [
    {
     "data": {
      "image/png": "[encoded data removed]",
      "text/plain": [
       "<matplotlib.figure.Figure at 0x26ea4ab37b8>"
      ]
     },
     "metadata": {},
     "output_type": "display_data"
    }
   ],
   "source": [
    "# Comparação região Vs População Economicamente Ativa\n",
    "pea_reg = pd.crosstab(ativos.REGIAO, ativos.PEA, normalize = True) * 100\n",
    "pea_reg.plot(kind='bar', figsize=(8, 6))\n",
    "plt.ylabel(\"População Absoluta (%)\")\n",
    "plt.xlabel(\"Regiões\")\n",
    "plt.legend([\"PEA\"])\n",
    "plt.grid(True);"
   ]
  },
  {
   "cell_type": "markdown",
   "metadata": {},
   "source": [
    "#### Educação"
   ]
  },
  {
   "cell_type": "markdown",
   "metadata": {},
   "source": [
    "Agora, vamos explorar o perfil das População Economicamente Ativa pensando em sua educação. Para isso, vamos considerar três variáveis: saber ler e escrever, a rede de ensino frequentada e os anos de estudo dessas pessoas, além de compará-las entre sí:"
   ]
  },
  {
   "cell_type": "code",
   "execution_count": 13,
   "metadata": {},
   "outputs": [
    {
     "data": {
      "image/png": "[encoded data removed]",
      "text/plain": [
       "<matplotlib.figure.Figure at 0x26ea4ad4a58>"
      ]
     },
     "metadata": {},
     "output_type": "display_data"
    }
   ],
   "source": [
    "# População Economicamente Ativa vs Saber ler e escrever\n",
    "pea_uf = pd.crosstab(ativos.SABER_LER, ativos.PEA, normalize = True) * 100\n",
    "pea_uf.plot(kind='bar', figsize=(8, 6),)\n",
    "plt.ylabel(\"População (%)\")\n",
    "plt.xlabel('Sabe-se ler e Escrever')\n",
    "plt.legend([\"PEA\"])\n",
    "plt.grid(True);"
   ]
  },
  {
   "cell_type": "code",
   "execution_count": 14,
   "metadata": {},
   "outputs": [
    {
     "data": {
      "image/png": "[encoded data removed]",
      "text/plain": [
       "<matplotlib.figure.Figure at 0x26ee43c39e8>"
      ]
     },
     "metadata": {},
     "output_type": "display_data"
    }
   ],
   "source": [
    "# População Economicamente Ativa vs Rede de ensino\n",
    "pea_uf = pd.crosstab(ativos.REDE_ENSINO, ativos.PEA, normalize = True) * 100\n",
    "pea_uf.plot(kind='bar', figsize=(8, 6),)\n",
    "plt.ylabel(\"População (%)\")\n",
    "plt.xlabel('Rede de Ensino')\n",
    "plt.legend([\"PEA\"])\n",
    "plt.grid(True);"
   ]
  },
  {
   "cell_type": "code",
   "execution_count": 15,
   "metadata": {},
   "outputs": [
    {
     "data": {
      "image/png": "[encoded data removed]",
      "text/plain": [
       "<matplotlib.figure.Figure at 0x26ea5e947b8>"
      ]
     },
     "metadata": {},
     "output_type": "display_data"
    }
   ],
   "source": [
    "# População Economicamente Ativa vs Anos de estudo\n",
    "pea_uf = pd.crosstab(ativos.ANOS_ESTUDO, ativos.PEA, normalize = True) * 100\n",
    "pea_uf.plot(kind='bar', figsize=(8, 6))\n",
    "plt.ylabel(\"População (%)\")\n",
    "plt.xlabel('Anos de Estudo')\n",
    "plt.legend([\"PEA\"])\n",
    "plt.grid(True);"
   ]
  },
  {
   "cell_type": "code",
   "execution_count": 42,
   "metadata": {},
   "outputs": [
    {
     "data": {
      "text/plain": [
       "<matplotlib.axes._subplots.AxesSubplot at 0x26ea88b7be0>"
      ]
     },
     "execution_count": 42,
     "metadata": {},
     "output_type": "execute_result"
    },
    {
     "data": {
      "image/png": "[encoded data removed]",
      "text/plain": [
       "<matplotlib.figure.Figure at 0x26ea870a470>"
      ]
     },
     "metadata": {},
     "output_type": "display_data"
    }
   ],
   "source": [
    "ativos.MORADOR_IDADE.plot.hist(density=True)"
   ]
  },
  {
   "cell_type": "markdown",
   "metadata": {},
   "source": [
    "## Conclusão "
   ]
  },
  {
   "cell_type": "markdown",
   "metadata": {
    "collapsed": true
   },
   "source": [
    "Descreva aqui suas conclusões!"
   ]
  },
  {
   "cell_type": "markdown",
   "metadata": {},
   "source": [
    "1 -  Maioria saiu do ensino médio\n",
    "\n",
    "2 -  Maioria é da região Sudeste ou Nordeste\n",
    "\n",
    "3 -  Maioria sabe ler e escrever\n",
    "\n",
    "4 -  Maioria possui entre 20 e 50 anos de idade\n",
    "\n",
    "5 -  Há pessoas economicamente ativas com idade menor do que o estabelecido (16 anos) para trabalhar. "
   ]
  },
  {
   "cell_type": "code",
   "execution_count": null,
   "metadata": {},
   "outputs": [],
   "source": []
  }
 ],
 "metadata": {
  "anaconda-cloud": {},
  "kernelspec": {
   "display_name": "Python 3",
   "language": "python",
   "name": "python3"
  },
  "language_info": {
   "codemirror_mode": {
    "name": "ipython",
    "version": 3
   },
   "file_extension": ".py",
   "mimetype": "text/x-python",
   "name": "python",
   "nbconvert_exporter": "python",
   "pygments_lexer": "ipython3",
   "version": "3.6.4"
  }
 },
 "nbformat": 4,
 "nbformat_minor": 1
}
