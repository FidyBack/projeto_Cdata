{
 "cells": [
  {
   "cell_type": "markdown",
   "metadata": {},
   "source": [
    "# Ciência dos Dados - PROJETO 1"
   ]
  },
  {
   "cell_type": "markdown",
   "metadata": {},
   "source": [
    "## Abel Cavalcante e Theo Barbara"
   ]
  },
  {
   "cell_type": "markdown",
   "metadata": {},
   "source": [
    "## Projeto de Análise e Filtragem de Dados"
   ]
  },
  {
   "cell_type": "markdown",
   "metadata": {},
   "source": [
    "## Introdução\n",
    "\n",
    "Esse projeto tem como objetivo principal analisar o perfil geral da População Economicamete Ativa. Pensando ainda nesse perfil, queremos responder a pergunta: Qual é o perfil educacional da População Economicamente Ativa brasileira?"
   ]
  },
  {
   "cell_type": "markdown",
   "metadata": {},
   "source": [
    "## Filtros da base de dados"
   ]
  },
  {
   "cell_type": "code",
   "execution_count": 1,
   "metadata": {},
   "outputs": [],
   "source": [
    "%matplotlib inline\n",
    "import pandas as pd\n",
    "import matplotlib.pyplot as plt\n",
    "import numpy as np"
   ]
  },
  {
   "cell_type": "code",
   "execution_count": 2,
   "metadata": {},
   "outputs": [
    {
     "data": {
      "text/html": [
       "<div>\n",
       "<style scoped>\n",
       "    .dataframe tbody tr th:only-of-type {\n",
       "        vertical-align: middle;\n",
       "    }\n",
       "\n",
       "    .dataframe tbody tr th {\n",
       "        vertical-align: top;\n",
       "    }\n",
       "\n",
       "    .dataframe thead th {\n",
       "        text-align: right;\n",
       "    }\n",
       "</style>\n",
       "<table border=\"1\" class=\"dataframe\">\n",
       "  <thead>\n",
       "    <tr style=\"text-align: right;\">\n",
       "      <th></th>\n",
       "      <th>Unnamed: 0</th>\n",
       "      <th>V0101</th>\n",
       "      <th>UF</th>\n",
       "      <th>V0102</th>\n",
       "      <th>V0103</th>\n",
       "      <th>V0301</th>\n",
       "      <th>V0302</th>\n",
       "      <th>V3031</th>\n",
       "      <th>V3032</th>\n",
       "      <th>V3033</th>\n",
       "      <th>...</th>\n",
       "      <th>V4741</th>\n",
       "      <th>V4742</th>\n",
       "      <th>V4743</th>\n",
       "      <th>V4745</th>\n",
       "      <th>V4746</th>\n",
       "      <th>V4747</th>\n",
       "      <th>V4748</th>\n",
       "      <th>V4749</th>\n",
       "      <th>V4750</th>\n",
       "      <th>V9993</th>\n",
       "    </tr>\n",
       "  </thead>\n",
       "  <tbody>\n",
       "    <tr>\n",
       "      <th>0</th>\n",
       "      <td>0</td>\n",
       "      <td>2015</td>\n",
       "      <td>11</td>\n",
       "      <td>15</td>\n",
       "      <td>1</td>\n",
       "      <td>1</td>\n",
       "      <td>2</td>\n",
       "      <td>27</td>\n",
       "      <td>2</td>\n",
       "      <td>1992</td>\n",
       "      <td>...</td>\n",
       "      <td>1.0</td>\n",
       "      <td>800.0</td>\n",
       "      <td>4.0</td>\n",
       "      <td>5</td>\n",
       "      <td>1.0</td>\n",
       "      <td>2.0</td>\n",
       "      <td>2.0</td>\n",
       "      <td>1.0</td>\n",
       "      <td>800.0</td>\n",
       "      <td>20161117</td>\n",
       "    </tr>\n",
       "    <tr>\n",
       "      <th>1</th>\n",
       "      <td>1</td>\n",
       "      <td>2015</td>\n",
       "      <td>11</td>\n",
       "      <td>15</td>\n",
       "      <td>3</td>\n",
       "      <td>1</td>\n",
       "      <td>4</td>\n",
       "      <td>4</td>\n",
       "      <td>5</td>\n",
       "      <td>1992</td>\n",
       "      <td>...</td>\n",
       "      <td>1.0</td>\n",
       "      <td>1150.0</td>\n",
       "      <td>4.0</td>\n",
       "      <td>5</td>\n",
       "      <td>1.0</td>\n",
       "      <td>2.0</td>\n",
       "      <td>2.0</td>\n",
       "      <td>1.0</td>\n",
       "      <td>1150.0</td>\n",
       "      <td>20161117</td>\n",
       "    </tr>\n",
       "    <tr>\n",
       "      <th>2</th>\n",
       "      <td>2</td>\n",
       "      <td>2015</td>\n",
       "      <td>11</td>\n",
       "      <td>15</td>\n",
       "      <td>4</td>\n",
       "      <td>1</td>\n",
       "      <td>4</td>\n",
       "      <td>4</td>\n",
       "      <td>1</td>\n",
       "      <td>1980</td>\n",
       "      <td>...</td>\n",
       "      <td>6.0</td>\n",
       "      <td>793.0</td>\n",
       "      <td>4.0</td>\n",
       "      <td>6</td>\n",
       "      <td>1.0</td>\n",
       "      <td>2.0</td>\n",
       "      <td>2.0</td>\n",
       "      <td>1.0</td>\n",
       "      <td>793.0</td>\n",
       "      <td>20161117</td>\n",
       "    </tr>\n",
       "    <tr>\n",
       "      <th>3</th>\n",
       "      <td>3</td>\n",
       "      <td>2015</td>\n",
       "      <td>11</td>\n",
       "      <td>15</td>\n",
       "      <td>4</td>\n",
       "      <td>2</td>\n",
       "      <td>2</td>\n",
       "      <td>5</td>\n",
       "      <td>6</td>\n",
       "      <td>1981</td>\n",
       "      <td>...</td>\n",
       "      <td>6.0</td>\n",
       "      <td>793.0</td>\n",
       "      <td>4.0</td>\n",
       "      <td>7</td>\n",
       "      <td>1.0</td>\n",
       "      <td>2.0</td>\n",
       "      <td>2.0</td>\n",
       "      <td>1.0</td>\n",
       "      <td>793.0</td>\n",
       "      <td>20161117</td>\n",
       "    </tr>\n",
       "    <tr>\n",
       "      <th>4</th>\n",
       "      <td>4</td>\n",
       "      <td>2015</td>\n",
       "      <td>11</td>\n",
       "      <td>15</td>\n",
       "      <td>4</td>\n",
       "      <td>3</td>\n",
       "      <td>4</td>\n",
       "      <td>8</td>\n",
       "      <td>4</td>\n",
       "      <td>2004</td>\n",
       "      <td>...</td>\n",
       "      <td>6.0</td>\n",
       "      <td>793.0</td>\n",
       "      <td>4.0</td>\n",
       "      <td>2</td>\n",
       "      <td>2.0</td>\n",
       "      <td>NaN</td>\n",
       "      <td>NaN</td>\n",
       "      <td>2.0</td>\n",
       "      <td>793.0</td>\n",
       "      <td>20161117</td>\n",
       "    </tr>\n",
       "  </tbody>\n",
       "</table>\n",
       "<p>5 rows × 329 columns</p>\n",
       "</div>"
      ],
      "text/plain": [
       "   Unnamed: 0  V0101  UF  V0102  V0103  V0301  V0302  V3031  V3032  V3033  \\\n",
       "0           0   2015  11     15      1      1      2     27      2   1992   \n",
       "1           1   2015  11     15      3      1      4      4      5   1992   \n",
       "2           2   2015  11     15      4      1      4      4      1   1980   \n",
       "3           3   2015  11     15      4      2      2      5      6   1981   \n",
       "4           4   2015  11     15      4      3      4      8      4   2004   \n",
       "\n",
       "     ...     V4741   V4742  V4743  V4745  V4746  V4747  V4748  V4749   V4750  \\\n",
       "0    ...       1.0   800.0    4.0      5    1.0    2.0    2.0    1.0   800.0   \n",
       "1    ...       1.0  1150.0    4.0      5    1.0    2.0    2.0    1.0  1150.0   \n",
       "2    ...       6.0   793.0    4.0      6    1.0    2.0    2.0    1.0   793.0   \n",
       "3    ...       6.0   793.0    4.0      7    1.0    2.0    2.0    1.0   793.0   \n",
       "4    ...       6.0   793.0    4.0      2    2.0    NaN    NaN    2.0   793.0   \n",
       "\n",
       "      V9993  \n",
       "0  20161117  \n",
       "1  20161117  \n",
       "2  20161117  \n",
       "3  20161117  \n",
       "4  20161117  \n",
       "\n",
       "[5 rows x 329 columns]"
      ]
     },
     "execution_count": 2,
     "metadata": {},
     "output_type": "execute_result"
    }
   ],
   "source": [
    "data = pd.read_csv('PES2015.csv')\n",
    "data.head()"
   ]
  },
  {
   "cell_type": "markdown",
   "metadata": {},
   "source": [
    "As variáveis utilizadas para o cumprimento do nosso objetivo serão:\n",
    "\n",
    "- UF (Unidade Federativa);\n",
    "- V8005 (Idade do morador);\n",
    "- V0601 (Saber ler e escrever);\n",
    "- V6002 (Rede de ensino);\n",
    "- V4803 (Anos de estudo);\n",
    "- V4713 (Condição de atividade no trabalho principal do período de referência de 365 dias para pessoas de 10 anos ou mais de idade)."
   ]
  },
  {
   "cell_type": "code",
   "execution_count": 3,
   "metadata": {
    "scrolled": true
   },
   "outputs": [
    {
     "name": "stderr",
     "output_type": "stream",
     "text": [
      "C:\\Users\\Lenovo\\Anaconda3\\lib\\site-packages\\ipykernel_launcher.py:1: UserWarning: Boolean Series key will be reindexed to match DataFrame index.\n",
      "  \"\"\"Entry point for launching an IPython kernel.\n"
     ]
    },
    {
     "data": {
      "text/html": [
       "<div>\n",
       "<style scoped>\n",
       "    .dataframe tbody tr th:only-of-type {\n",
       "        vertical-align: middle;\n",
       "    }\n",
       "\n",
       "    .dataframe tbody tr th {\n",
       "        vertical-align: top;\n",
       "    }\n",
       "\n",
       "    .dataframe thead th {\n",
       "        text-align: right;\n",
       "    }\n",
       "</style>\n",
       "<table border=\"1\" class=\"dataframe\">\n",
       "  <thead>\n",
       "    <tr style=\"text-align: right;\">\n",
       "      <th></th>\n",
       "      <th>UF</th>\n",
       "      <th>V8005</th>\n",
       "      <th>V0601</th>\n",
       "      <th>V6002</th>\n",
       "      <th>V4803</th>\n",
       "      <th>V4713</th>\n",
       "    </tr>\n",
       "  </thead>\n",
       "  <tbody>\n",
       "    <tr>\n",
       "      <th>0</th>\n",
       "      <td>11</td>\n",
       "      <td>23</td>\n",
       "      <td>1</td>\n",
       "      <td>NaN</td>\n",
       "      <td>12</td>\n",
       "      <td>1.0</td>\n",
       "    </tr>\n",
       "    <tr>\n",
       "      <th>1</th>\n",
       "      <td>11</td>\n",
       "      <td>23</td>\n",
       "      <td>1</td>\n",
       "      <td>NaN</td>\n",
       "      <td>12</td>\n",
       "      <td>1.0</td>\n",
       "    </tr>\n",
       "    <tr>\n",
       "      <th>2</th>\n",
       "      <td>11</td>\n",
       "      <td>35</td>\n",
       "      <td>1</td>\n",
       "      <td>4.0</td>\n",
       "      <td>15</td>\n",
       "      <td>1.0</td>\n",
       "    </tr>\n",
       "    <tr>\n",
       "      <th>3</th>\n",
       "      <td>11</td>\n",
       "      <td>34</td>\n",
       "      <td>1</td>\n",
       "      <td>NaN</td>\n",
       "      <td>15</td>\n",
       "      <td>1.0</td>\n",
       "    </tr>\n",
       "    <tr>\n",
       "      <th>4</th>\n",
       "      <td>11</td>\n",
       "      <td>11</td>\n",
       "      <td>1</td>\n",
       "      <td>4.0</td>\n",
       "      <td>4</td>\n",
       "      <td>2.0</td>\n",
       "    </tr>\n",
       "  </tbody>\n",
       "</table>\n",
       "</div>"
      ],
      "text/plain": [
       "   UF  V8005  V0601  V6002  V4803  V4713\n",
       "0  11     23      1    NaN     12    1.0\n",
       "1  11     23      1    NaN     12    1.0\n",
       "2  11     35      1    4.0     15    1.0\n",
       "3  11     34      1    NaN     15    1.0\n",
       "4  11     11      1    4.0      4    2.0"
      ]
     },
     "execution_count": 3,
     "metadata": {},
     "output_type": "execute_result"
    }
   ],
   "source": [
    "data_filtro = data[['UF', \"V8005\", \"V0601\", \"V6002\", \"V4803\", \"V4713\"]][data[\"V8005\"] > 10][data[\"V8005\"] < 65]\n",
    "data_filtro.head()"
   ]
  },
  {
   "cell_type": "markdown",
   "metadata": {},
   "source": [
    "Antes de começarmos a programar, vamos redefinir o nome de algumas variáveis:"
   ]
  },
  {
   "cell_type": "code",
   "execution_count": 4,
   "metadata": {},
   "outputs": [
    {
     "data": {
      "text/html": [
       "<div>\n",
       "<style scoped>\n",
       "    .dataframe tbody tr th:only-of-type {\n",
       "        vertical-align: middle;\n",
       "    }\n",
       "\n",
       "    .dataframe tbody tr th {\n",
       "        vertical-align: top;\n",
       "    }\n",
       "\n",
       "    .dataframe thead th {\n",
       "        text-align: right;\n",
       "    }\n",
       "</style>\n",
       "<table border=\"1\" class=\"dataframe\">\n",
       "  <thead>\n",
       "    <tr style=\"text-align: right;\">\n",
       "      <th></th>\n",
       "      <th>UF</th>\n",
       "      <th>MORADOR_IDADE</th>\n",
       "      <th>SABER_LER</th>\n",
       "      <th>REDE_ENSINO</th>\n",
       "      <th>ANOS_ESTUDO</th>\n",
       "      <th>PEA</th>\n",
       "    </tr>\n",
       "  </thead>\n",
       "  <tbody>\n",
       "    <tr>\n",
       "      <th>0</th>\n",
       "      <td>11</td>\n",
       "      <td>23</td>\n",
       "      <td>1</td>\n",
       "      <td>NaN</td>\n",
       "      <td>12</td>\n",
       "      <td>1.0</td>\n",
       "    </tr>\n",
       "    <tr>\n",
       "      <th>1</th>\n",
       "      <td>11</td>\n",
       "      <td>23</td>\n",
       "      <td>1</td>\n",
       "      <td>NaN</td>\n",
       "      <td>12</td>\n",
       "      <td>1.0</td>\n",
       "    </tr>\n",
       "    <tr>\n",
       "      <th>2</th>\n",
       "      <td>11</td>\n",
       "      <td>35</td>\n",
       "      <td>1</td>\n",
       "      <td>4.0</td>\n",
       "      <td>15</td>\n",
       "      <td>1.0</td>\n",
       "    </tr>\n",
       "    <tr>\n",
       "      <th>3</th>\n",
       "      <td>11</td>\n",
       "      <td>34</td>\n",
       "      <td>1</td>\n",
       "      <td>NaN</td>\n",
       "      <td>15</td>\n",
       "      <td>1.0</td>\n",
       "    </tr>\n",
       "    <tr>\n",
       "      <th>4</th>\n",
       "      <td>11</td>\n",
       "      <td>11</td>\n",
       "      <td>1</td>\n",
       "      <td>4.0</td>\n",
       "      <td>4</td>\n",
       "      <td>2.0</td>\n",
       "    </tr>\n",
       "  </tbody>\n",
       "</table>\n",
       "</div>"
      ],
      "text/plain": [
       "   UF  MORADOR_IDADE  SABER_LER  REDE_ENSINO  ANOS_ESTUDO  PEA\n",
       "0  11             23          1          NaN           12  1.0\n",
       "1  11             23          1          NaN           12  1.0\n",
       "2  11             35          1          4.0           15  1.0\n",
       "3  11             34          1          NaN           15  1.0\n",
       "4  11             11          1          4.0            4  2.0"
      ]
     },
     "execution_count": 4,
     "metadata": {},
     "output_type": "execute_result"
    }
   ],
   "source": [
    "data_filtro.columns = ['UF', 'MORADOR_IDADE', 'SABER_LER', 'REDE_ENSINO', 'ANOS_ESTUDO', 'PEA']\n",
    "data_filtro.head()"
   ]
  },
  {
   "cell_type": "markdown",
   "metadata": {},
   "source": [
    "Temos, assim, que a variável \"População Economicamente Ativa\" pode ser definida como sendo a variável \"V4713\". Assim,  pretendemos usar essa variável como base de estudo."
   ]
  },
  {
   "cell_type": "code",
   "execution_count": 5,
   "metadata": {},
   "outputs": [
    {
     "data": {
      "text/html": [
       "<div>\n",
       "<style scoped>\n",
       "    .dataframe tbody tr th:only-of-type {\n",
       "        vertical-align: middle;\n",
       "    }\n",
       "\n",
       "    .dataframe tbody tr th {\n",
       "        vertical-align: top;\n",
       "    }\n",
       "\n",
       "    .dataframe thead th {\n",
       "        text-align: right;\n",
       "    }\n",
       "</style>\n",
       "<table border=\"1\" class=\"dataframe\">\n",
       "  <thead>\n",
       "    <tr style=\"text-align: right;\">\n",
       "      <th></th>\n",
       "      <th>PEA</th>\n",
       "    </tr>\n",
       "  </thead>\n",
       "  <tbody>\n",
       "    <tr>\n",
       "      <th>0</th>\n",
       "      <td>1.0</td>\n",
       "    </tr>\n",
       "    <tr>\n",
       "      <th>1</th>\n",
       "      <td>1.0</td>\n",
       "    </tr>\n",
       "    <tr>\n",
       "      <th>2</th>\n",
       "      <td>1.0</td>\n",
       "    </tr>\n",
       "    <tr>\n",
       "      <th>3</th>\n",
       "      <td>1.0</td>\n",
       "    </tr>\n",
       "    <tr>\n",
       "      <th>4</th>\n",
       "      <td>2.0</td>\n",
       "    </tr>\n",
       "  </tbody>\n",
       "</table>\n",
       "</div>"
      ],
      "text/plain": [
       "   PEA\n",
       "0  1.0\n",
       "1  1.0\n",
       "2  1.0\n",
       "3  1.0\n",
       "4  2.0"
      ]
     },
     "execution_count": 5,
     "metadata": {},
     "output_type": "execute_result"
    }
   ],
   "source": [
    "data_filtro[['PEA']].head()"
   ]
  },
  {
   "cell_type": "markdown",
   "metadata": {},
   "source": [
    "Podemos também ver que essa variável possui duas opções: \"1.0\", que significa que a pessoa é Economicamente ativa e \"2.0\", que significa que a pessoa é Economicamente inativa."
   ]
  },
  {
   "cell_type": "code",
   "execution_count": 6,
   "metadata": {},
   "outputs": [
    {
     "data": {
      "text/plain": [
       "1.0    186168\n",
       "2.0     83402\n",
       "Name: PEA, dtype: int64"
      ]
     },
     "execution_count": 6,
     "metadata": {},
     "output_type": "execute_result"
    }
   ],
   "source": [
    "data_filtro.PEA.value_counts()"
   ]
  },
  {
   "cell_type": "markdown",
   "metadata": {},
   "source": [
    "Como queremos medir o perfil das pessoas economicamente ativas, ignoraremos a parcela que se encontra em \"2.0\""
   ]
  },
  {
   "cell_type": "code",
   "execution_count": 7,
   "metadata": {},
   "outputs": [
    {
     "data": {
      "text/plain": [
       "1.0    186168\n",
       "Name: PEA, dtype: int64"
      ]
     },
     "execution_count": 7,
     "metadata": {},
     "output_type": "execute_result"
    }
   ],
   "source": [
    "ativos = data_filtro[data_filtro.PEA == 1]\n",
    "ativos.PEA.value_counts()"
   ]
  },
  {
   "cell_type": "markdown",
   "metadata": {},
   "source": [
    "Também filtraremos os dados que estão como \"NaN\":"
   ]
  },
  {
   "cell_type": "code",
   "execution_count": 8,
   "metadata": {},
   "outputs": [
    {
     "data": {
      "text/html": [
       "<div>\n",
       "<style scoped>\n",
       "    .dataframe tbody tr th:only-of-type {\n",
       "        vertical-align: middle;\n",
       "    }\n",
       "\n",
       "    .dataframe tbody tr th {\n",
       "        vertical-align: top;\n",
       "    }\n",
       "\n",
       "    .dataframe thead th {\n",
       "        text-align: right;\n",
       "    }\n",
       "</style>\n",
       "<table border=\"1\" class=\"dataframe\">\n",
       "  <thead>\n",
       "    <tr style=\"text-align: right;\">\n",
       "      <th></th>\n",
       "      <th>UF</th>\n",
       "      <th>MORADOR_IDADE</th>\n",
       "      <th>SABER_LER</th>\n",
       "      <th>REDE_ENSINO</th>\n",
       "      <th>ANOS_ESTUDO</th>\n",
       "      <th>PEA</th>\n",
       "    </tr>\n",
       "  </thead>\n",
       "  <tbody>\n",
       "    <tr>\n",
       "      <th>0</th>\n",
       "      <td>11</td>\n",
       "      <td>23</td>\n",
       "      <td>1</td>\n",
       "      <td>0.0</td>\n",
       "      <td>12</td>\n",
       "      <td>1.0</td>\n",
       "    </tr>\n",
       "    <tr>\n",
       "      <th>1</th>\n",
       "      <td>11</td>\n",
       "      <td>23</td>\n",
       "      <td>1</td>\n",
       "      <td>0.0</td>\n",
       "      <td>12</td>\n",
       "      <td>1.0</td>\n",
       "    </tr>\n",
       "    <tr>\n",
       "      <th>2</th>\n",
       "      <td>11</td>\n",
       "      <td>35</td>\n",
       "      <td>1</td>\n",
       "      <td>4.0</td>\n",
       "      <td>15</td>\n",
       "      <td>1.0</td>\n",
       "    </tr>\n",
       "    <tr>\n",
       "      <th>3</th>\n",
       "      <td>11</td>\n",
       "      <td>34</td>\n",
       "      <td>1</td>\n",
       "      <td>0.0</td>\n",
       "      <td>15</td>\n",
       "      <td>1.0</td>\n",
       "    </tr>\n",
       "    <tr>\n",
       "      <th>7</th>\n",
       "      <td>11</td>\n",
       "      <td>18</td>\n",
       "      <td>1</td>\n",
       "      <td>0.0</td>\n",
       "      <td>12</td>\n",
       "      <td>1.0</td>\n",
       "    </tr>\n",
       "  </tbody>\n",
       "</table>\n",
       "</div>"
      ],
      "text/plain": [
       "   UF  MORADOR_IDADE  SABER_LER  REDE_ENSINO  ANOS_ESTUDO  PEA\n",
       "0  11             23          1          0.0           12  1.0\n",
       "1  11             23          1          0.0           12  1.0\n",
       "2  11             35          1          4.0           15  1.0\n",
       "3  11             34          1          0.0           15  1.0\n",
       "7  11             18          1          0.0           12  1.0"
      ]
     },
     "execution_count": 8,
     "metadata": {},
     "output_type": "execute_result"
    }
   ],
   "source": [
    "ativos = ativos.fillna(0)\n",
    "ativos.head()"
   ]
  },
  {
   "cell_type": "markdown",
   "metadata": {},
   "source": [
    "Assim, temos que o dataframe 'ativos' contém apenas as pessoas economicamente ativas. Com isso, podemos trabalhar com as variáveis:"
   ]
  },
  {
   "cell_type": "code",
   "execution_count": 9,
   "metadata": {},
   "outputs": [
    {
     "data": {
      "text/html": [
       "<div>\n",
       "<style scoped>\n",
       "    .dataframe tbody tr th:only-of-type {\n",
       "        vertical-align: middle;\n",
       "    }\n",
       "\n",
       "    .dataframe tbody tr th {\n",
       "        vertical-align: top;\n",
       "    }\n",
       "\n",
       "    .dataframe thead th {\n",
       "        text-align: right;\n",
       "    }\n",
       "</style>\n",
       "<table border=\"1\" class=\"dataframe\">\n",
       "  <thead>\n",
       "    <tr style=\"text-align: right;\">\n",
       "      <th></th>\n",
       "      <th>UF</th>\n",
       "      <th>MORADOR_IDADE</th>\n",
       "      <th>SABER_LER</th>\n",
       "      <th>REDE_ENSINO</th>\n",
       "      <th>ANOS_ESTUDO</th>\n",
       "      <th>PEA</th>\n",
       "      <th>REGIAO</th>\n",
       "    </tr>\n",
       "  </thead>\n",
       "  <tbody>\n",
       "    <tr>\n",
       "      <th>0</th>\n",
       "      <td>Rondônia</td>\n",
       "      <td>23</td>\n",
       "      <td>Sim</td>\n",
       "      <td>Não Aplicável</td>\n",
       "      <td>12</td>\n",
       "      <td>Economicamente ativas</td>\n",
       "      <td>Norte</td>\n",
       "    </tr>\n",
       "    <tr>\n",
       "      <th>1</th>\n",
       "      <td>Rondônia</td>\n",
       "      <td>23</td>\n",
       "      <td>Sim</td>\n",
       "      <td>Não Aplicável</td>\n",
       "      <td>12</td>\n",
       "      <td>Economicamente ativas</td>\n",
       "      <td>Norte</td>\n",
       "    </tr>\n",
       "    <tr>\n",
       "      <th>2</th>\n",
       "      <td>Rondônia</td>\n",
       "      <td>35</td>\n",
       "      <td>Sim</td>\n",
       "      <td>Privada</td>\n",
       "      <td>15</td>\n",
       "      <td>Economicamente ativas</td>\n",
       "      <td>Norte</td>\n",
       "    </tr>\n",
       "    <tr>\n",
       "      <th>3</th>\n",
       "      <td>Rondônia</td>\n",
       "      <td>34</td>\n",
       "      <td>Sim</td>\n",
       "      <td>Não Aplicável</td>\n",
       "      <td>15</td>\n",
       "      <td>Economicamente ativas</td>\n",
       "      <td>Norte</td>\n",
       "    </tr>\n",
       "    <tr>\n",
       "      <th>7</th>\n",
       "      <td>Rondônia</td>\n",
       "      <td>18</td>\n",
       "      <td>Sim</td>\n",
       "      <td>Não Aplicável</td>\n",
       "      <td>12</td>\n",
       "      <td>Economicamente ativas</td>\n",
       "      <td>Norte</td>\n",
       "    </tr>\n",
       "  </tbody>\n",
       "</table>\n",
       "</div>"
      ],
      "text/plain": [
       "         UF  MORADOR_IDADE SABER_LER    REDE_ENSINO  ANOS_ESTUDO  \\\n",
       "0  Rondônia             23       Sim  Não Aplicável           12   \n",
       "1  Rondônia             23       Sim  Não Aplicável           12   \n",
       "2  Rondônia             35       Sim        Privada           15   \n",
       "3  Rondônia             34       Sim  Não Aplicável           15   \n",
       "7  Rondônia             18       Sim  Não Aplicável           12   \n",
       "\n",
       "                     PEA REGIAO  \n",
       "0  Economicamente ativas  Norte  \n",
       "1  Economicamente ativas  Norte  \n",
       "2  Economicamente ativas  Norte  \n",
       "3  Economicamente ativas  Norte  \n",
       "7  Economicamente ativas  Norte  "
      ]
     },
     "execution_count": 9,
     "metadata": {},
     "output_type": "execute_result"
    }
   ],
   "source": [
    "# Vamos separar a variável \"UF\" em regiões, para melhor visualização:\n",
    "if 'REGIAO' not in ativos:\n",
    "    ativos.loc[(ativos.UF>10)&(ativos.UF<20), \"REGIAO\"] = \"Norte\"\n",
    "    ativos.loc[(ativos.UF>20)&(ativos.UF<30), \"REGIAO\"] = \"Nordeste\"\n",
    "    ativos.loc[(ativos.UF>30)&(ativos.UF<37), \"REGIAO\"] = \"Sudeste\"\n",
    "    ativos.loc[(ativos.UF>40)&(ativos.UF<48), \"REGIAO\"] = \"Sul\"\n",
    "    ativos.loc[(ativos.UF>49)&(ativos.UF<56), \"REGIAO\"] = \"Centro-Oeste\"\n",
    "else:\n",
    "    pass\n",
    "    \n",
    "ativos.head()\n",
    "\n",
    "# Definiremos quais variáveis são qualitativas:\n",
    "ativos.UF = ativos.UF.astype('category')\n",
    "ativos.SABER_LER = ativos.SABER_LER.astype('category')\n",
    "ativos.REDE_ENSINO = ativos.REDE_ENSINO.astype('category')\n",
    "ativos.PEA = ativos.PEA.astype('category')\n",
    "\n",
    "ativos.UF.cat.categories = (\"Rondônia\", \"Acre\", \"Amazonas\", \"Roraima\", \"Pará\", \"Amapá\", \"Tocantins\", \"Maranhão\", \"Piauí\", \"Ceará\", \"Rio Grande do Norte\", \"Paraíba\", \"Pernambuco\", \"Alagoas\", \"Sergipe\", \"Bahia\", \"Minas Gerais\", \"Espírito Santo\", \"Rio de Janeiro\", \"São Paulo\", \"Paraná\", \"Santa Catarina\", \"Rio Grande do Sul\", \"Mato Grosso do Sul\", \"Mato Grosso\", \"Goiás\", \"Distrito Federal\")\n",
    "ativos.SABER_LER.cat.categories = (\"Sim\", \"Não\")\n",
    "ativos.REDE_ENSINO.cat.categories = (\"Não Aplicável\",\"Pública\", \"Privada\")\n",
    "ativos.PEA.cat.categories = ([\"Economicamente ativas\"])\n",
    "\n",
    "ativos.head()"
   ]
  },
  {
   "cell_type": "markdown",
   "metadata": {},
   "source": [
    "## Análise de variáveis"
   ]
  },
  {
   "cell_type": "markdown",
   "metadata": {},
   "source": [
    "Vamos explorar o perfil das pessoas Economicamente Ativas por região e por idade:"
   ]
  },
  {
   "cell_type": "code",
   "execution_count": 29,
   "metadata": {},
   "outputs": [
    {
     "data": {
      "image/png": "[encoded data removed]",
      "text/plain": [
       "<Figure size 576x432 with 1 Axes>"
      ]
     },
     "metadata": {
      "needs_background": "light"
     },
     "output_type": "display_data"
    }
   ],
   "source": [
    "# Comparação região Vs População Economicamente Ativa\n",
    "pea_reg = pd.crosstab(ativos.REGIAO, ativos.PEA, normalize = True) * 100\n",
    "pea_reg.plot(kind='bar', figsize=(8, 6))\n",
    "plt.ylabel(\"População Absoluta (%)\")\n",
    "plt.xlabel(\"Regiões\")\n",
    "plt.legend([\"PEA\"])\n",
    "plt.grid(True);"
   ]
  },
  {
   "cell_type": "markdown",
   "metadata": {},
   "source": [
    "No gráfico acima, é possível observar que a população economicamente ativa está localizada principalmente nas regiões Sudeste e Nordeste. "
   ]
  },
  {
   "cell_type": "code",
   "execution_count": 53,
   "metadata": {},
   "outputs": [
    {
     "data": {
      "image/png": "[encoded data removed]",
      "text/plain": [
       "<Figure size 576x432 with 1 Axes>"
      ]
     },
     "metadata": {
      "needs_background": "light"
     },
     "output_type": "display_data"
    }
   ],
   "source": [
    "# Comparação idade Vs População Economicamente Ativa\n",
    "ativos.MORADOR_IDADE.plot.hist(density=True, bins = 50, figsize=(8, 6))\n",
    "plt.ylabel(\"População Absoluta (%)\")\n",
    "plt.xlabel(\"Idade\")\n",
    "plt.grid(True);"
   ]
  },
  {
   "cell_type": "markdown",
   "metadata": {},
   "source": [
    "O gráfico acima, mostra a relação entre a população economicamente ativa e a idade. Podemos notar que há uma grande quantidade de indivíduos entre 20 e 50 anos. Mais particularmente em idades próximas a 30 anos de idade e entre 40 e 50 anos de idade. "
   ]
  },
  {
   "cell_type": "markdown",
   "metadata": {},
   "source": [
    "Esses dados mostram alguams informações interessantes: Regiões como a Suldeste e Nordeste são a que apresentam o maior número de pessoas economicamente ativas, enquanto a capital do país, a região Centro-Oeste é a menos produtiva.\n",
    "\n",
    "Além disso, é possível observar que, apesar de contra lei, há uma pequena taxa de pessoas com menos de 16 anos considerada como economicamente ativa."
   ]
  },
  {
   "cell_type": "markdown",
   "metadata": {},
   "source": [
    "#### Educação"
   ]
  },
  {
   "cell_type": "markdown",
   "metadata": {},
   "source": [
    "Agora, vamos explorar o perfil das População Economicamente Ativa pensando em sua educação. Para isso, vamos considerar três variáveis: saber ler e escrever, a rede de ensino frequentada e os anos de estudo dessas pessoas, além de compará-las entre sí:"
   ]
  },
  {
   "cell_type": "code",
   "execution_count": 10,
   "metadata": {},
   "outputs": [
    {
     "data": {
      "image/png": "[encoded data removed]",
      "text/plain": [
       "<Figure size 576x432 with 1 Axes>"
      ]
     },
     "metadata": {
      "needs_background": "light"
     },
     "output_type": "display_data"
    }
   ],
   "source": [
    "# População Economicamente Ativa vs Saber ler e escrever\n",
    "pea_uf = pd.crosstab(ativos.SABER_LER, ativos.PEA, normalize = True) * 100\n",
    "pea_uf.plot(kind='bar', figsize=(8, 6),)\n",
    "plt.ylabel(\"População (%)\")\n",
    "plt.xlabel('Sabe-se ler e Escrever')\n",
    "plt.legend([\"PEA\"])\n",
    "plt.grid(True);"
   ]
  },
  {
   "cell_type": "markdown",
   "metadata": {},
   "source": [
    "Como já era de se esperar, o gráfico acima mostra que a grande maioria da população economicamente ativa sabe ler e escrever, restando uma pequena minoria para os que não sabem nem ler, nem escrever. "
   ]
  },
  {
   "cell_type": "code",
   "execution_count": 11,
   "metadata": {},
   "outputs": [
    {
     "data": {
      "image/png": "[encoded data removed]",
      "text/plain": [
       "<Figure size 576x432 with 1 Axes>"
      ]
     },
     "metadata": {
      "needs_background": "light"
     },
     "output_type": "display_data"
    }
   ],
   "source": [
    "# População Economicamente Ativa vs Rede de ensino\n",
    "pea_uf = pd.crosstab(ativos.REDE_ENSINO, ativos.PEA, normalize = True) * 100\n",
    "pea_uf.plot(kind='bar', figsize=(8, 6),)\n",
    "plt.ylabel(\"População (%)\")\n",
    "plt.xlabel('Rede de Ensino')\n",
    "plt.legend([\"PEA\"])\n",
    "plt.grid(True);"
   ]
  },
  {
   "cell_type": "markdown",
   "metadata": {},
   "source": [
    "O gráfico acima relaciona a população economicamente ativa com a rede de ensino frequentada e, a grande maioria não frequentou ou não frequenta nenhuma rede de ensino, quer seja pública, quer seja privada. "
   ]
  },
  {
   "cell_type": "code",
   "execution_count": 12,
   "metadata": {},
   "outputs": [
    {
     "data": {
      "image/png": "[encoded data removed]",
      "text/plain": [
       "<Figure size 576x432 with 1 Axes>"
      ]
     },
     "metadata": {
      "needs_background": "light"
     },
     "output_type": "display_data"
    }
   ],
   "source": [
    "# População Economicamente Ativa vs Anos de estudo\n",
    "pea_uf = pd.crosstab(ativos.ANOS_ESTUDO, ativos.PEA, normalize = True) * 100\n",
    "pea_uf.plot(kind='bar', figsize=(8, 6))\n",
    "plt.ylabel(\"População (%)\")\n",
    "plt.xlabel('Anos de Estudo')\n",
    "plt.legend([\"PEA\"])\n",
    "plt.grid(True);"
   ]
  },
  {
   "cell_type": "markdown",
   "metadata": {},
   "source": [
    "Pelo gráfico acima, podemos perceber que a parte da população economicamente ativa, que frequentou alguma rede de ensino, possui 12 ou mais anos de estudo e isso indica que, ou o indivíduo está no terceiro ano do Ensino Médio ou já possui Ensino Médio concluído.Também há uma parcela menor que possui 16 anos ou mais de estudo ou seja, está cursando ou já cursou Ensino Superior."
   ]
  },
  {
   "cell_type": "markdown",
   "metadata": {},
   "source": [
    "Apoós comparar individualmente, é possível compará-las entre sí:"
   ]
  },
  {
   "cell_type": "code",
   "execution_count": 33,
   "metadata": {},
   "outputs": [
    {
     "data": {
      "text/plain": [
       "Text(0.5, 0, 'Regiões')"
      ]
     },
     "execution_count": 33,
     "metadata": {},
     "output_type": "execute_result"
    },
    {
     "data": {
      "image/png": "[encoded data removed]",
      "text/plain": [
       "<Figure size 432x288 with 1 Axes>"
      ]
     },
     "metadata": {
      "needs_background": "light"
     },
     "output_type": "display_data"
    }
   ],
   "source": [
    "regi_anos = pd.crosstab(ativos.REGIAO, ativos.ANOS_ESTUDO, normalize=True)*100\n",
    "regi_anos.plot(kind='bar')\n",
    "plt.ylabel(\"Frequências relativas (%)\")\n",
    "plt.xlabel(\"Regiões\")"
   ]
  },
  {
   "cell_type": "markdown",
   "metadata": {},
   "source": [
    "## Conclusão "
   ]
  },
  {
   "cell_type": "markdown",
   "metadata": {
    "collapsed": true
   },
   "source": [
    "Descreva aqui suas conclusões!"
   ]
  },
  {
   "cell_type": "markdown",
   "metadata": {},
   "source": [
    "1 -  Maioria saiu do ensino médio\n",
    "\n",
    "2 -  Maioria sabe ler e escrever\n",
    "\n",
    "3 -  Maioria possui entre 20 e 50 anos de idade\n",
    "\n",
    "\n",
    "Com todos os dados devidamente utilizados e filtrados, conseguimos identificar que o perfil do brasileiro economicamente ativo é o de que: Vive na região sudeste ou região nordeste, gira em torno de 20 e 50 anos de idade (com mais destaque para os de aproximadamente 30 anos de idade e entre 40 e 50 anos de idade), sabe ler e escrever, não frequentou nenhuma rede de ensino, sendo que grande parte da população economicamente ativa que frequentou alguma rede de ensino possui 12 anos ou mais de estudo e uma pequena parcela com Ensino Superior em andamento ou completo."
   ]
  },
  {
   "cell_type": "code",
   "execution_count": null,
   "metadata": {},
   "outputs": [],
   "source": []
  }
 ],
 "metadata": {
  "anaconda-cloud": {},
  "kernelspec": {
   "display_name": "Python 3",
   "language": "python",
   "name": "python3"
  },
  "language_info": {
   "codemirror_mode": {
    "name": "ipython",
    "version": 3
   },
   "file_extension": ".py",
   "mimetype": "text/x-python",
   "name": "python",
   "nbconvert_exporter": "python",
   "pygments_lexer": "ipython3",
   "version": "3.6.4"
  }
 },
 "nbformat": 4,
 "nbformat_minor": 1
}
