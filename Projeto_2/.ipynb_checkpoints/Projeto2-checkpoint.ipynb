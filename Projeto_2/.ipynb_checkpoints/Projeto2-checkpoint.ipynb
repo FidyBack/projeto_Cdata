{
 "cells": [
  {
   "cell_type": "markdown",
   "metadata": {},
   "source": [
    "___\n",
    "# Ciência dos Dados - PROJETO 2\n",
    "___"
   ]
  },
  {
   "cell_type": "markdown",
   "metadata": {},
   "source": [
    "\n",
    "# Abel Cavalcante\n",
    "\n",
    "\n",
    "# Theo Barbara"
   ]
  },
  {
   "cell_type": "markdown",
   "metadata": {},
   "source": [
    "___\n",
    "## Problema\n",
    "\n",
    "O Classificador Naive-Bayes, o qual se baseia no uso do teorema de Bayes, é largamente utilizado em filtros anti-spam de e-mails. O classificador permite calcular qual a probabilidade de uma mensagem ser SPAM considerando as palavras em seu conteúdo e, de forma complementar, permite calcular a probabilidade de uma mensagem ser HAM dada as palavras descritas na mensagem.\n",
    "\n",
    "Para realizar o MVP (minimum viable product) do projeto, você precisa programar uma versão do classificador que \"aprende\" o que é uma mensagem SPAM considerando uma base de treinamento e comparar o desempenho dos resultados com uma base de testes. \n"
   ]
  },
  {
   "cell_type": "markdown",
   "metadata": {},
   "source": [
    "___\n",
    "## Separação da base de dados em Treinamento e Teste\n",
    "\n",
    "A base de dados deve ser separada em duas partes, aleatoriamente, considerando: \n",
    "    \n",
    "    75% dos dados para a parte Treinamento; e\n",
    "    25% dos dados para a parte Teste."
   ]
  },
  {
   "cell_type": "code",
   "execution_count": 1,
   "metadata": {},
   "outputs": [],
   "source": [
    "import pandas as pd\n",
    "import os\n",
    "import re"
   ]
  },
  {
   "cell_type": "code",
   "execution_count": 2,
   "metadata": {},
   "outputs": [
    {
     "name": "stdout",
     "output_type": "stream",
     "text": [
      "Esperamos trabalhar no diretório\n",
      "C:\\Users\\Lenovo\\OneDrive\\Desktop\\Insper\\3° Semestre\\CData - DP\\projeto_Cdata\\Projeto_2\n"
     ]
    }
   ],
   "source": [
    "print('Esperamos trabalhar no diretório')\n",
    "print(os.getcwd())"
   ]
  },
  {
   "cell_type": "code",
   "execution_count": 3,
   "metadata": {},
   "outputs": [],
   "source": [
    "# Import do DataBase\n",
    "data = pd.read_excel(\"spamham2019.xlsx\")"
   ]
  },
  {
   "cell_type": "code",
   "execution_count": 4,
   "metadata": {
    "scrolled": true
   },
   "outputs": [
    {
     "data": {
      "text/html": [
       "<div>\n",
       "<style scoped>\n",
       "    .dataframe tbody tr th:only-of-type {\n",
       "        vertical-align: middle;\n",
       "    }\n",
       "\n",
       "    .dataframe tbody tr th {\n",
       "        vertical-align: top;\n",
       "    }\n",
       "\n",
       "    .dataframe thead th {\n",
       "        text-align: right;\n",
       "    }\n",
       "</style>\n",
       "<table border=\"1\" class=\"dataframe\">\n",
       "  <thead>\n",
       "    <tr style=\"text-align: right;\">\n",
       "      <th></th>\n",
       "      <th>Email</th>\n",
       "      <th>Class</th>\n",
       "    </tr>\n",
       "  </thead>\n",
       "  <tbody>\n",
       "    <tr>\n",
       "      <th>0</th>\n",
       "      <td>Go until jurong point, crazy.. Available only ...</td>\n",
       "      <td>ham</td>\n",
       "    </tr>\n",
       "    <tr>\n",
       "      <th>1</th>\n",
       "      <td>Ok lar... Joking wif u oni...</td>\n",
       "      <td>ham</td>\n",
       "    </tr>\n",
       "    <tr>\n",
       "      <th>2</th>\n",
       "      <td>Free entry in 2 a wkly comp to win FA Cup fina...</td>\n",
       "      <td>spam</td>\n",
       "    </tr>\n",
       "    <tr>\n",
       "      <th>3</th>\n",
       "      <td>U dun say so early hor... U c already then say...</td>\n",
       "      <td>ham</td>\n",
       "    </tr>\n",
       "    <tr>\n",
       "      <th>4</th>\n",
       "      <td>Nah I don't think he goes to usf, he lives aro...</td>\n",
       "      <td>ham</td>\n",
       "    </tr>\n",
       "  </tbody>\n",
       "</table>\n",
       "</div>"
      ],
      "text/plain": [
       "                                               Email Class\n",
       "0  Go until jurong point, crazy.. Available only ...   ham\n",
       "1                      Ok lar... Joking wif u oni...   ham\n",
       "2  Free entry in 2 a wkly comp to win FA Cup fina...  spam\n",
       "3  U dun say so early hor... U c already then say...   ham\n",
       "4  Nah I don't think he goes to usf, he lives aro...   ham"
      ]
     },
     "execution_count": 4,
     "metadata": {},
     "output_type": "execute_result"
    }
   ],
   "source": [
    "data.head()"
   ]
  },
  {
   "cell_type": "code",
   "execution_count": 5,
   "metadata": {},
   "outputs": [
    {
     "name": "stdout",
     "output_type": "stream",
     "text": [
      "Treinamento: 75.0%, Teste: 25.0%\n"
     ]
    }
   ],
   "source": [
    "# Separação em treinamento e teste\n",
    "from sklearn.model_selection import train_test_split\n",
    "seed = 54779\n",
    "\n",
    "X_train, X_test, y_train, y_test = train_test_split(data, data.Email, random_state=seed)\n",
    "\n",
    "print(\"Treinamento: {}%, Teste: {}%\".format((X_train.shape[0]/data.Email.shape[0])*100, (X_test.shape[0]/data.Email.shape[0])*100))"
   ]
  },
  {
   "cell_type": "markdown",
   "metadata": {},
   "source": [
    "___\n",
    "## Filtro de dados\n",
    "\n",
    "Após a separação, é necessário separar as informações entre spam e ham, além de eliminar os ccaracteres que não nos importam:"
   ]
  },
  {
   "cell_type": "markdown",
   "metadata": {},
   "source": [
    "___\n",
    "## Classificador Naive-Bayes"
   ]
  },
  {
   "cell_type": "code",
   "execution_count": 6,
   "metadata": {
    "scrolled": true
   },
   "outputs": [
    {
     "data": {
      "text/plain": [
       "['You',\n",
       " 'are',\n",
       " 'gorgeous',\n",
       " 'keep',\n",
       " 'those',\n",
       " 'pix',\n",
       " 'cumming',\n",
       " ':)',\n",
       " 'thank',\n",
       " 'you']"
      ]
     },
     "execution_count": 6,
     "metadata": {},
     "output_type": "execute_result"
    }
   ],
   "source": [
    "# Filtro de caracteres inúteis\n",
    "def separador_palavra(frase):\n",
    "    return([i for i in re.split(r\"\\s|,|;|\\.|[|]|[*]|[!]|[..]|[...]|[!]|[?]\",frase) if i != ''])\n",
    "\n",
    "separador_palavra(\"You are gorgeous! keep those pix cumming :) thank you!\")"
   ]
  },
  {
   "cell_type": "code",
   "execution_count": 10,
   "metadata": {
    "scrolled": true
   },
   "outputs": [],
   "source": [
    "# Frequência que uma palavra aparece em spam ou em ham\n",
    "listaspam = []\n",
    "listaham = []\n",
    "frequenciaspam = {}\n",
    "frequenciaham = {}\n",
    "\n",
    "def intermediario(listaspam, listaham, dicionariospam, dicionarioham):\n",
    "    emails = list(X_train.Email)\n",
    "    classe = list(X_train.Class)\n",
    "\n",
    "    for frase in range(len(emails)):\n",
    "        if classe[frase] == 'spam':\n",
    "            palavra_list = separador_palavra(emails[frase])\n",
    "            for palavra_sp in palavra_list:\n",
    "                listaspam.append(palavra_sp)\n",
    "        else:\n",
    "            palavra_list = separador_palavra(emails[frase])\n",
    "            for palavra_hm in palavra_list:\n",
    "                listaham.append(palavra_hm)\n",
    "\n",
    "    contador(listaspam, dicionariospam)\n",
    "    contador(listaham, dicionarioham)\n",
    "\n",
    "\n",
    "def contador(lista, dicionario):\n",
    "    for palavra_parada in lista:\n",
    "        contador = 0\n",
    "        if palavra_parada in dicionario:\n",
    "            pass\n",
    "        else:\n",
    "            for palavra_andando in lista:\n",
    "                if palavra_andando == palavra_parada:\n",
    "                    contador += 1\n",
    "            dicionario[palavra_parada] = contador\n",
    "    return(dicionario)\n",
    "\n",
    "def frequencia_palavra(palavra, status):\n",
    "    if status == 'spam':\n",
    "        if palavra in frequenciaspam:\n",
    "            return(frequenciaspam[palavra])\n",
    "        else:\n",
    "            return(0)\n",
    "    else:\n",
    "        if palavra in frequenciaham:\n",
    "            return(frequenciaham[palavra])\n",
    "        else:\n",
    "            return(0)\n",
    "\n",
    "intermediario(listaspam, listaham, frequenciaspam, frequenciaham)"
   ]
  },
  {
   "cell_type": "code",
   "execution_count": 11,
   "metadata": {},
   "outputs": [
    {
     "data": {
      "text/plain": [
       "(55, 19)"
      ]
     },
     "execution_count": 11,
     "metadata": {},
     "output_type": "execute_result"
    }
   ],
   "source": [
    "frequencia_palavra('Your', 'spam'), frequencia_palavra('Your', 'ham')"
   ]
  },
  {
   "cell_type": "markdown",
   "metadata": {},
   "source": [
    "___\n",
    "## Testando com o dataframe de teste"
   ]
  },
  {
   "cell_type": "code",
   "execution_count": 52,
   "metadata": {},
   "outputs": [
    {
     "name": "stdout",
     "output_type": "stream",
     "text": [
      "Falsos Positivos: 0 ou 0.0% \n",
      "Positivos Verdadeiros: 495 ou 11.84% \n",
      "Falsos Negativos: 68 ou 1.63% \n",
      "Negativos Verdadeiros: 86.38 ou 3610% \n"
     ]
    }
   ],
   "source": [
    "# Cálculo da probabilidade de ser \"spam|frase\" ou \"ham|frase\"\n",
    "def total_palavras(dataframe):\n",
    "    palavra_total = []\n",
    "    total_palavra = 0\n",
    "    \n",
    "    for a in dataframe.Email:\n",
    "        palavra_total.append(separador_palavra(a))\n",
    "        \n",
    "    for b in palavra_total:\n",
    "        for c in b:\n",
    "            total_palavra += 1\n",
    "    return total_palavra\n",
    "\n",
    "def classificador(dataframe, dicionariospam, dicionarioham):\n",
    "    falso_positivo = 0\n",
    "    falso_negativo = 0\n",
    "    positivo_verdadeiro = 0\n",
    "    negativo_verdadeiro = 0\n",
    "    \n",
    "    total_spam = dataframe[dataframe.Class == \"spam\"].shape[0]\n",
    "    total_ham = dataframe[dataframe.Class == \"ham\"].shape[0]\n",
    "    total = dataframe.shape[0]\n",
    "    \n",
    "    total_palavras_spam = total_palavras(dataframe[dataframe.Class == \"spam\"])\n",
    "    total_palavras_ham = total_palavras(dataframe[dataframe.Class == \"ham\"])\n",
    "    total_palavras_dataframe = total_palavras(dataframe)\n",
    "    \n",
    "    for frase in range(len(dataframe)):\n",
    "        status = 0\n",
    "        palavra = separador_palavra(dataframe.iloc[frase, 0])\n",
    "        probfrase_spam = 1\n",
    "        probfrase_ham = 1\n",
    "        for a in palavra:\n",
    "            probfrase_spam = probfrase_spam * ((frequencia_palavra(a, 'spam') + 1)/(total_palavras_spam + total_palavras_dataframe))\n",
    "            probfrase_ham = probfrase_ham * ((frequencia_palavra(a, 'ham') + 1)/(total_palavras_ham + total_palavras_dataframe))\n",
    "        probspam_frase = probfrase_spam * (total_spam/total)\n",
    "        probham_frase = probfrase_ham * (total_ham/total)\n",
    "\n",
    "        if probspam_frase > probham_frase:\n",
    "            status = \"spam\"\n",
    "            if status == dataframe.iloc[frase, 1]:\n",
    "                positivo_verdadeiro += 1\n",
    "            else:\n",
    "                falso_positivo +=1\n",
    "                \n",
    "        \n",
    "        elif probspam_frase < probham_frase:\n",
    "            status = \"ham\"\n",
    "            if status == dataframe.iloc[frase, 1]:\n",
    "                negativo_verdadeiro += 1\n",
    "            else:\n",
    "                falso_negativo += 1\n",
    "        \n",
    "    return(print(\"Falsos Positivos: {} ou {}% \\nPositivos Verdadeiros: {} ou {}% \\nFalsos Negativos: {} ou {}% \\nNegativos Verdadeiros: {} ou {}% \".format(falso_positivo, round(falso_positivo/total*100, 2), positivo_verdadeiro, round(positivo_verdadeiro/total*100, 2), falso_negativo, round(falso_negativo/total*100, 2), round(negativo_verdadeiro/total*100, 2), negativo_verdadeiro)))\n",
    "\n",
    "classificador(X_train, frequenciaspam, frequenciaham)"
   ]
  },
  {
   "cell_type": "markdown",
   "metadata": {},
   "source": [
    "___\n",
    "## 4. Qualidade do Classificador alterando a base de treinamento"
   ]
  },
  {
   "cell_type": "code",
   "execution_count": null,
   "metadata": {},
   "outputs": [],
   "source": []
  },
  {
   "cell_type": "code",
   "execution_count": null,
   "metadata": {},
   "outputs": [],
   "source": []
  },
  {
   "cell_type": "code",
   "execution_count": null,
   "metadata": {},
   "outputs": [],
   "source": []
  }
 ],
 "metadata": {
  "anaconda-cloud": {},
  "kernelspec": {
   "display_name": "Python 3",
   "language": "python",
   "name": "python3"
  },
  "language_info": {
   "codemirror_mode": {
    "name": "ipython",
    "version": 3
   },
   "file_extension": ".py",
   "mimetype": "text/x-python",
   "name": "python",
   "nbconvert_exporter": "python",
   "pygments_lexer": "ipython3",
   "version": "3.6.7"
  }
 },
 "nbformat": 4,
 "nbformat_minor": 1
}
