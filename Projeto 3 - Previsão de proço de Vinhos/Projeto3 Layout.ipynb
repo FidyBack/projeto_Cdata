{
 "cells": [
  {
   "cell_type": "markdown",
   "metadata": {},
   "source": [
    "___\n",
    "## Ciência dos Dados - PROJETO 3 - INSPER"
   ]
  },
  {
   "cell_type": "markdown",
   "metadata": {},
   "source": [
    "___\n",
    "#### Abel Cavalcante\n",
    "\n",
    "#### Theo Barbara\n",
    "\n",
    "#### Gustavo Pierre\n",
    "___"
   ]
  },
  {
   "cell_type": "markdown",
   "metadata": {},
   "source": [
    "# Análise e previsão de preço de vinhos"
   ]
  },
  {
   "cell_type": "markdown",
   "metadata": {},
   "source": [
    "___\n",
    "\n",
    "## A. INTRODUÇÃO"
   ]
  },
  {
   "cell_type": "markdown",
   "metadata": {},
   "source": []
  },
  {
   "cell_type": "markdown",
   "metadata": {},
   "source": [
    "[Aqui mais espaço!]"
   ]
  },
  {
   "cell_type": "markdown",
   "metadata": {},
   "source": [
    "___\n",
    "## B. MINERANDO DADOS e CARACTERÍSTICAS DO DATASET"
   ]
  },
  {
   "cell_type": "markdown",
   "metadata": {},
   "source": [
    "[Detalhe aqui as características da base de dados além da análise descritiva.]"
   ]
  },
  {
   "cell_type": "code",
   "execution_count": 1,
   "metadata": {},
   "outputs": [],
   "source": [
    "import pandas as pd\n",
    "import os\n",
    "from matplotlib import pyplot as plt"
   ]
  },
  {
   "cell_type": "code",
   "execution_count": 2,
   "metadata": {},
   "outputs": [
    {
     "name": "stdout",
     "output_type": "stream",
     "text": [
      "Esperamos trabalhar no diretório\n",
      "C:\\Users\\Lenovo\\OneDrive\\Desktop\\Insper\\3° Semestre\\CData - DP\\projeto_Cdata\\Projeto 3 - Previsão de proço de Vinhos\n"
     ]
    }
   ],
   "source": [
    "print('Esperamos trabalhar no diretório')\n",
    "print(os.getcwd())"
   ]
  },
  {
   "cell_type": "markdown",
   "metadata": {},
   "source": [
    "### BASE DE DADOS"
   ]
  },
  {
   "cell_type": "code",
   "execution_count": 3,
   "metadata": {
    "scrolled": true
   },
   "outputs": [
    {
     "data": {
      "text/html": [
       "<div>\n",
       "<style scoped>\n",
       "    .dataframe tbody tr th:only-of-type {\n",
       "        vertical-align: middle;\n",
       "    }\n",
       "\n",
       "    .dataframe tbody tr th {\n",
       "        vertical-align: top;\n",
       "    }\n",
       "\n",
       "    .dataframe thead th {\n",
       "        text-align: right;\n",
       "    }\n",
       "</style>\n",
       "<table border=\"1\" class=\"dataframe\">\n",
       "  <thead>\n",
       "    <tr style=\"text-align: right;\">\n",
       "      <th></th>\n",
       "      <th>country</th>\n",
       "      <th>description</th>\n",
       "      <th>designation</th>\n",
       "      <th>points</th>\n",
       "      <th>price</th>\n",
       "      <th>province</th>\n",
       "      <th>region_1</th>\n",
       "      <th>region_2</th>\n",
       "      <th>variety</th>\n",
       "      <th>winery</th>\n",
       "    </tr>\n",
       "  </thead>\n",
       "  <tbody>\n",
       "    <tr>\n",
       "      <th>0</th>\n",
       "      <td>US</td>\n",
       "      <td>This tremendous 100% varietal wine hails from ...</td>\n",
       "      <td>Martha's Vineyard</td>\n",
       "      <td>96</td>\n",
       "      <td>235.0</td>\n",
       "      <td>California</td>\n",
       "      <td>Napa Valley</td>\n",
       "      <td>Napa</td>\n",
       "      <td>Cabernet Sauvignon</td>\n",
       "      <td>Heitz</td>\n",
       "    </tr>\n",
       "    <tr>\n",
       "      <th>1</th>\n",
       "      <td>Spain</td>\n",
       "      <td>Ripe aromas of fig, blackberry and cassis are ...</td>\n",
       "      <td>Carodorum Selección Especial Reserva</td>\n",
       "      <td>96</td>\n",
       "      <td>110.0</td>\n",
       "      <td>Northern Spain</td>\n",
       "      <td>Toro</td>\n",
       "      <td>NaN</td>\n",
       "      <td>Tinta de Toro</td>\n",
       "      <td>Bodega Carmen Rodríguez</td>\n",
       "    </tr>\n",
       "    <tr>\n",
       "      <th>2</th>\n",
       "      <td>US</td>\n",
       "      <td>Mac Watson honors the memory of a wine once ma...</td>\n",
       "      <td>Special Selected Late Harvest</td>\n",
       "      <td>96</td>\n",
       "      <td>90.0</td>\n",
       "      <td>California</td>\n",
       "      <td>Knights Valley</td>\n",
       "      <td>Sonoma</td>\n",
       "      <td>Sauvignon Blanc</td>\n",
       "      <td>Macauley</td>\n",
       "    </tr>\n",
       "    <tr>\n",
       "      <th>3</th>\n",
       "      <td>US</td>\n",
       "      <td>This spent 20 months in 30% new French oak, an...</td>\n",
       "      <td>Reserve</td>\n",
       "      <td>96</td>\n",
       "      <td>65.0</td>\n",
       "      <td>Oregon</td>\n",
       "      <td>Willamette Valley</td>\n",
       "      <td>Willamette Valley</td>\n",
       "      <td>Pinot Noir</td>\n",
       "      <td>Ponzi</td>\n",
       "    </tr>\n",
       "    <tr>\n",
       "      <th>4</th>\n",
       "      <td>France</td>\n",
       "      <td>This is the top wine from La Bégude, named aft...</td>\n",
       "      <td>La Brûlade</td>\n",
       "      <td>95</td>\n",
       "      <td>66.0</td>\n",
       "      <td>Provence</td>\n",
       "      <td>Bandol</td>\n",
       "      <td>NaN</td>\n",
       "      <td>Provence red blend</td>\n",
       "      <td>Domaine de la Bégude</td>\n",
       "    </tr>\n",
       "  </tbody>\n",
       "</table>\n",
       "</div>"
      ],
      "text/plain": [
       "  country                                        description  \\\n",
       "0      US  This tremendous 100% varietal wine hails from ...   \n",
       "1   Spain  Ripe aromas of fig, blackberry and cassis are ...   \n",
       "2      US  Mac Watson honors the memory of a wine once ma...   \n",
       "3      US  This spent 20 months in 30% new French oak, an...   \n",
       "4  France  This is the top wine from La Bégude, named aft...   \n",
       "\n",
       "                            designation  points  price        province  \\\n",
       "0                     Martha's Vineyard      96  235.0      California   \n",
       "1  Carodorum Selección Especial Reserva      96  110.0  Northern Spain   \n",
       "2         Special Selected Late Harvest      96   90.0      California   \n",
       "3                               Reserve      96   65.0          Oregon   \n",
       "4                            La Brûlade      95   66.0        Provence   \n",
       "\n",
       "            region_1           region_2             variety  \\\n",
       "0        Napa Valley               Napa  Cabernet Sauvignon   \n",
       "1               Toro                NaN       Tinta de Toro   \n",
       "2     Knights Valley             Sonoma     Sauvignon Blanc   \n",
       "3  Willamette Valley  Willamette Valley          Pinot Noir   \n",
       "4             Bandol                NaN  Provence red blend   \n",
       "\n",
       "                    winery  \n",
       "0                    Heitz  \n",
       "1  Bodega Carmen Rodríguez  \n",
       "2                 Macauley  \n",
       "3                    Ponzi  \n",
       "4     Domaine de la Bégude  "
      ]
     },
     "execution_count": 3,
     "metadata": {},
     "output_type": "execute_result"
    }
   ],
   "source": [
    "dados=pd.read_csv('winemag-data_first150k.csv')\n",
    "del dados[\"Unnamed: 0\"]\n",
    "dados.head()"
   ]
  },
  {
   "cell_type": "code",
   "execution_count": 7,
   "metadata": {},
   "outputs": [
    {
     "data": {
      "text/html": [
       "<div>\n",
       "<style scoped>\n",
       "    .dataframe tbody tr th:only-of-type {\n",
       "        vertical-align: middle;\n",
       "    }\n",
       "\n",
       "    .dataframe tbody tr th {\n",
       "        vertical-align: top;\n",
       "    }\n",
       "\n",
       "    .dataframe thead th {\n",
       "        text-align: right;\n",
       "    }\n",
       "</style>\n",
       "<table border=\"1\" class=\"dataframe\">\n",
       "  <thead>\n",
       "    <tr style=\"text-align: right;\">\n",
       "      <th></th>\n",
       "      <th>country</th>\n",
       "      <th>description</th>\n",
       "      <th>designation</th>\n",
       "      <th>points</th>\n",
       "      <th>price</th>\n",
       "      <th>province</th>\n",
       "      <th>region_1</th>\n",
       "      <th>region_2</th>\n",
       "      <th>variety</th>\n",
       "      <th>winery</th>\n",
       "      <th>quantity</th>\n",
       "    </tr>\n",
       "  </thead>\n",
       "  <tbody>\n",
       "    <tr>\n",
       "      <th>0</th>\n",
       "      <td>Diversos</td>\n",
       "      <td></td>\n",
       "      <td>Diversos</td>\n",
       "      <td>Media</td>\n",
       "      <td>Media</td>\n",
       "      <td>Diversos</td>\n",
       "      <td>Diversos</td>\n",
       "      <td>Diversos</td>\n",
       "      <td>Outros</td>\n",
       "      <td>Diversos</td>\n",
       "      <td>7998</td>\n",
       "    </tr>\n",
       "    <tr>\n",
       "      <th>1</th>\n",
       "      <td>Spain</td>\n",
       "      <td>Ripe aromas of fig, blackberry and cassis are ...</td>\n",
       "      <td>Carodorum Selección Especial Reserva</td>\n",
       "      <td>96</td>\n",
       "      <td>110</td>\n",
       "      <td>Northern Spain</td>\n",
       "      <td>Toro</td>\n",
       "      <td>NaN</td>\n",
       "      <td>Tinta de Toro</td>\n",
       "      <td>Bodega Carmen Rodríguez</td>\n",
       "      <td></td>\n",
       "    </tr>\n",
       "    <tr>\n",
       "      <th>2</th>\n",
       "      <td>US</td>\n",
       "      <td>Mac Watson honors the memory of a wine once ma...</td>\n",
       "      <td>Special Selected Late Harvest</td>\n",
       "      <td>96</td>\n",
       "      <td>90</td>\n",
       "      <td>California</td>\n",
       "      <td>Knights Valley</td>\n",
       "      <td>Sonoma</td>\n",
       "      <td>Sauvignon Blanc</td>\n",
       "      <td>Macauley</td>\n",
       "      <td></td>\n",
       "    </tr>\n",
       "    <tr>\n",
       "      <th>3</th>\n",
       "      <td>US</td>\n",
       "      <td>This spent 20 months in 30% new French oak, an...</td>\n",
       "      <td>Reserve</td>\n",
       "      <td>96</td>\n",
       "      <td>65</td>\n",
       "      <td>Oregon</td>\n",
       "      <td>Willamette Valley</td>\n",
       "      <td>Willamette Valley</td>\n",
       "      <td>Pinot Noir</td>\n",
       "      <td>Ponzi</td>\n",
       "      <td></td>\n",
       "    </tr>\n",
       "    <tr>\n",
       "      <th>4</th>\n",
       "      <td>France</td>\n",
       "      <td>This is the top wine from La Bégude, named aft...</td>\n",
       "      <td>La Brûlade</td>\n",
       "      <td>95</td>\n",
       "      <td>66</td>\n",
       "      <td>Provence</td>\n",
       "      <td>Bandol</td>\n",
       "      <td>NaN</td>\n",
       "      <td>Provence red blend</td>\n",
       "      <td>Domaine de la Bégude</td>\n",
       "      <td></td>\n",
       "    </tr>\n",
       "  </tbody>\n",
       "</table>\n",
       "</div>"
      ],
      "text/plain": [
       "    country                                        description  \\\n",
       "0  Diversos                                                      \n",
       "1     Spain  Ripe aromas of fig, blackberry and cassis are ...   \n",
       "2        US  Mac Watson honors the memory of a wine once ma...   \n",
       "3        US  This spent 20 months in 30% new French oak, an...   \n",
       "4    France  This is the top wine from La Bégude, named aft...   \n",
       "\n",
       "                            designation points  price        province  \\\n",
       "0                              Diversos  Media  Media        Diversos   \n",
       "1  Carodorum Selección Especial Reserva     96    110  Northern Spain   \n",
       "2         Special Selected Late Harvest     96     90      California   \n",
       "3                               Reserve     96     65          Oregon   \n",
       "4                            La Brûlade     95     66        Provence   \n",
       "\n",
       "            region_1           region_2             variety  \\\n",
       "0           Diversos           Diversos              Outros   \n",
       "1               Toro                NaN       Tinta de Toro   \n",
       "2     Knights Valley             Sonoma     Sauvignon Blanc   \n",
       "3  Willamette Valley  Willamette Valley          Pinot Noir   \n",
       "4             Bandol                NaN  Provence red blend   \n",
       "\n",
       "                    winery quantity  \n",
       "0                 Diversos     7998  \n",
       "1  Bodega Carmen Rodríguez           \n",
       "2                 Macauley           \n",
       "3                    Ponzi           \n",
       "4     Domaine de la Bégude           "
      ]
     },
     "execution_count": 7,
     "metadata": {},
     "output_type": "execute_result"
    }
   ],
   "source": [
    "dic = {}\n",
    "vinhos = {}\n",
    "for e in dados.variety:\n",
    "    if e not in dic:\n",
    "        dic[e] = 1\n",
    "    else:\n",
    "        dic[e] +=1\n",
    "        \n",
    "for i in dic:\n",
    "    if dic[i] < 100:\n",
    "        vinhos[\"Outro\"] = dic[i]\n",
    "    elif dic[i] > 100:\n",
    "        vinhos[i] = dic[i]\n",
    "        \n",
    "for i in dic:\n",
    "    if dic[i] < 100:\n",
    "        vinhos[\"Outro\"] += dic[i]\n",
    "        \n",
    "dados['quantity'] = ''\n",
    "dados.loc[0] = [\"Diversos\", '',\"Diversos\", \"Media\", \"Media\", \"Diversos\", \"Diversos\", \"Diversos\",'Outros', \"Diversos\", vinhos['Outro']]\n",
    "\n",
    "\n",
    "\n",
    "dados.head(5)"
   ]
  },
  {
   "cell_type": "code",
   "execution_count": 5,
   "metadata": {},
   "outputs": [
    {
     "data": {
      "text/plain": [
       "{'Cabernet Sauvignon': 12800,\n",
       " 'Tinta de Toro': 221,\n",
       " 'Sauvignon Blanc': 6320,\n",
       " 'Pinot Noir': 14291,\n",
       " 'Outro': 7997,\n",
       " 'Friulano': 137,\n",
       " 'Tannat': 140,\n",
       " 'Chardonnay': 14482,\n",
       " 'Tempranillo': 2556,\n",
       " 'Malbec': 3208,\n",
       " 'Rosé': 2817,\n",
       " 'Tempranillo Blend': 756,\n",
       " 'Syrah': 5825,\n",
       " 'Sangiovese': 3345,\n",
       " 'Sparkling Blend': 2004,\n",
       " 'Rhône-style White Blend': 409,\n",
       " 'Red Blend': 10062,\n",
       " 'Mencía': 148,\n",
       " 'Petite Sirah': 897,\n",
       " 'Riesling': 5524,\n",
       " 'Cabernet Sauvignon-Syrah': 151,\n",
       " 'Portuguese Red': 2216,\n",
       " 'Nebbiolo': 2241,\n",
       " 'Pinot Gris': 1365,\n",
       " 'Meritage': 317,\n",
       " 'Glera': 622,\n",
       " 'Malbec-Merlot': 109,\n",
       " 'Viognier': 1263,\n",
       " 'Moscato': 430,\n",
       " 'Pinot Grigio': 1305,\n",
       " 'Cabernet Franc': 1363,\n",
       " 'White Blend': 2824,\n",
       " 'Monastrell': 150,\n",
       " 'Gamay': 535,\n",
       " 'Zinfandel': 3799,\n",
       " 'Barbera': 1365,\n",
       " 'Grenache': 603,\n",
       " 'Rhône-style Red Blend': 1505,\n",
       " 'Albariño': 537,\n",
       " 'Carmenère': 761,\n",
       " 'Bordeaux-style Red Blend': 7347,\n",
       " 'Touriga Nacional': 180,\n",
       " 'Agiorgitiko': 120,\n",
       " 'Godello': 103,\n",
       " 'Gewürztraminer': 982,\n",
       " 'Merlot': 5070,\n",
       " 'G-S-M': 151,\n",
       " 'Mourvèdre': 174,\n",
       " 'Bordeaux-style White Blend': 1261,\n",
       " 'Petit Verdot': 206,\n",
       " 'Muscat': 168,\n",
       " 'Cabernet Sauvignon-Merlot': 243,\n",
       " 'Pinot Bianco': 126,\n",
       " 'Portuguese White': 941,\n",
       " 'Garganega': 402,\n",
       " 'Sauvignon': 261,\n",
       " 'Grüner Veltliner': 1042,\n",
       " 'Vermentino': 232,\n",
       " 'Sherry': 103,\n",
       " 'Aglianico': 317,\n",
       " 'Torrontés': 367,\n",
       " 'Primitivo': 273,\n",
       " 'Pinot Blanc': 470,\n",
       " \"Nero d'Avola\": 458,\n",
       " 'St. Laurent': 102,\n",
       " 'Blaufränkisch': 227,\n",
       " 'Pinot Nero': 133,\n",
       " 'Shiraz': 1970,\n",
       " 'Champagne Blend': 1238,\n",
       " 'Garnacha': 401,\n",
       " 'Chenin Blanc': 746,\n",
       " 'Fumé Blanc': 110,\n",
       " 'Roussanne': 182,\n",
       " 'Grillo': 150,\n",
       " 'Port': 1058,\n",
       " 'Cabernet Blend': 305,\n",
       " 'Marsanne': 128,\n",
       " 'Fiano': 149,\n",
       " 'Verdejo': 316,\n",
       " 'Zweigelt': 219,\n",
       " 'Sémillon': 216,\n",
       " 'Dolcetto': 358,\n",
       " 'Montepulciano': 329,\n",
       " 'Viura': 110,\n",
       " 'Bonarda': 152,\n",
       " 'Sagrantino': 113,\n",
       " 'Pinotage': 200,\n",
       " 'Corvina, Rondinella, Molinara': 1682,\n",
       " 'Sangiovese Grosso': 1346,\n",
       " 'Prosecco': 594}"
      ]
     },
     "execution_count": 5,
     "metadata": {},
     "output_type": "execute_result"
    }
   ],
   "source": [
    "vinhos"
   ]
  },
  {
   "cell_type": "code",
   "execution_count": null,
   "metadata": {},
   "outputs": [],
   "source": []
  },
  {
   "cell_type": "markdown",
   "metadata": {},
   "source": [
    "### ANÁLISE DESCRITIVA"
   ]
  },
  {
   "cell_type": "code",
   "execution_count": null,
   "metadata": {},
   "outputs": [],
   "source": []
  },
  {
   "cell_type": "code",
   "execution_count": null,
   "metadata": {},
   "outputs": [],
   "source": []
  },
  {
   "cell_type": "code",
   "execution_count": null,
   "metadata": {},
   "outputs": [],
   "source": []
  },
  {
   "cell_type": "code",
   "execution_count": null,
   "metadata": {},
   "outputs": [],
   "source": []
  },
  {
   "cell_type": "code",
   "execution_count": null,
   "metadata": {},
   "outputs": [],
   "source": []
  },
  {
   "cell_type": "markdown",
   "metadata": {},
   "source": [
    "___\n",
    "## C. MODELOS DE PREDIÇÃO"
   ]
  },
  {
   "cell_type": "markdown",
   "metadata": {
    "collapsed": true
   },
   "source": [
    "o MODELO DE PREDIÇÃO PELA MÉDIA (Sem uso de variável explicativa)."
   ]
  },
  {
   "cell_type": "code",
   "execution_count": null,
   "metadata": {},
   "outputs": [],
   "source": []
  },
  {
   "cell_type": "code",
   "execution_count": null,
   "metadata": {},
   "outputs": [],
   "source": []
  },
  {
   "cell_type": "markdown",
   "metadata": {
    "collapsed": true
   },
   "source": [
    "o MODELO DOS K VIZINHOS MAIS PRÓXIMOS (K-Nearest Neighbors Regression)"
   ]
  },
  {
   "cell_type": "code",
   "execution_count": null,
   "metadata": {},
   "outputs": [],
   "source": []
  },
  {
   "cell_type": "code",
   "execution_count": null,
   "metadata": {},
   "outputs": [],
   "source": []
  },
  {
   "cell_type": "markdown",
   "metadata": {
    "collapsed": true
   },
   "source": [
    "o MODELO DE REGRESSÃO LINEAR (Multiple Linear Regression)"
   ]
  },
  {
   "cell_type": "code",
   "execution_count": null,
   "metadata": {},
   "outputs": [],
   "source": []
  },
  {
   "cell_type": "code",
   "execution_count": null,
   "metadata": {},
   "outputs": [],
   "source": []
  },
  {
   "cell_type": "markdown",
   "metadata": {
    "collapsed": true
   },
   "source": [
    "o MODELO DE ÁRVORES DE REGRESSÃO (Decision Tree Regression)"
   ]
  },
  {
   "cell_type": "code",
   "execution_count": null,
   "metadata": {},
   "outputs": [],
   "source": []
  },
  {
   "cell_type": "code",
   "execution_count": null,
   "metadata": {},
   "outputs": [],
   "source": []
  },
  {
   "cell_type": "markdown",
   "metadata": {
    "collapsed": true
   },
   "source": [
    "___\n",
    "## D. PROCESSO E ESTATÍSTICAS DE VALIDAÇÃO"
   ]
  },
  {
   "cell_type": "markdown",
   "metadata": {},
   "source": [
    "[Esse item depende dos resultados das modelagens anteriores! Organize-os aqui de forma clara!]"
   ]
  },
  {
   "cell_type": "code",
   "execution_count": null,
   "metadata": {},
   "outputs": [],
   "source": []
  },
  {
   "cell_type": "code",
   "execution_count": null,
   "metadata": {},
   "outputs": [],
   "source": []
  },
  {
   "cell_type": "code",
   "execution_count": null,
   "metadata": {},
   "outputs": [],
   "source": []
  },
  {
   "cell_type": "code",
   "execution_count": null,
   "metadata": {},
   "outputs": [],
   "source": []
  },
  {
   "cell_type": "markdown",
   "metadata": {},
   "source": [
    "___\n",
    "## E. CONCLUSÃO"
   ]
  },
  {
   "cell_type": "code",
   "execution_count": null,
   "metadata": {},
   "outputs": [],
   "source": []
  },
  {
   "cell_type": "code",
   "execution_count": null,
   "metadata": {},
   "outputs": [],
   "source": []
  },
  {
   "cell_type": "code",
   "execution_count": null,
   "metadata": {},
   "outputs": [],
   "source": []
  },
  {
   "cell_type": "code",
   "execution_count": null,
   "metadata": {},
   "outputs": [],
   "source": []
  },
  {
   "cell_type": "markdown",
   "metadata": {},
   "source": [
    "___\n",
    "## F. REFERÊNCIAS BIBLIOGRÁFICAS"
   ]
  },
  {
   "cell_type": "code",
   "execution_count": null,
   "metadata": {},
   "outputs": [],
   "source": []
  },
  {
   "cell_type": "code",
   "execution_count": null,
   "metadata": {},
   "outputs": [],
   "source": []
  },
  {
   "cell_type": "code",
   "execution_count": null,
   "metadata": {},
   "outputs": [],
   "source": []
  },
  {
   "cell_type": "code",
   "execution_count": null,
   "metadata": {},
   "outputs": [],
   "source": []
  }
 ],
 "metadata": {
  "anaconda-cloud": {},
  "kernelspec": {
   "display_name": "Python 3",
   "language": "python",
   "name": "python3"
  },
  "language_info": {
   "codemirror_mode": {
    "name": "ipython",
    "version": 3
   },
   "file_extension": ".py",
   "mimetype": "text/x-python",
   "name": "python",
   "nbconvert_exporter": "python",
   "pygments_lexer": "ipython3",
   "version": "3.6.7"
  }
 },
 "nbformat": 4,
 "nbformat_minor": 1
}
